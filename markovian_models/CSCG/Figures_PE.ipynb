{
 "cells": [
  {
   "cell_type": "code",
   "execution_count": 2,
   "metadata": {},
   "outputs": [],
   "source": [
    "import numpy as np\n",
    "import pandas as pd\n",
    "import scipy\n",
    "import seaborn as sns"
   ]
  },
  {
   "cell_type": "code",
   "execution_count": 32,
   "metadata": {},
   "outputs": [],
   "source": [
    "ged_spatial = np.load('ged_spatial.npy', allow_pickle=True)\n",
    "ged_spatial_PE = np.load('ged_spatial_PE.npy', allow_pickle=True)"
   ]
  },
  {
   "cell_type": "code",
   "execution_count": 38,
   "metadata": {},
   "outputs": [],
   "source": [
    "ged_norm_spatial = np.load('ged_norm_spatial.pkl', allow_pickle=True)\n",
    "ged_norm_spatial_PE = np.load('ged_norm_spatial_PE.npy', allow_pickle=True)"
   ]
  },
  {
   "cell_type": "code",
   "execution_count": 42,
   "metadata": {},
   "outputs": [
    {
     "data": {
      "text/plain": [
       "10"
      ]
     },
     "execution_count": 42,
     "metadata": {},
     "output_type": "execute_result"
    }
   ],
   "source": [
    "len(ged_norm_spatial)"
   ]
  },
  {
   "cell_type": "code",
   "execution_count": 39,
   "metadata": {},
   "outputs": [
    {
     "ename": "ValueError",
     "evalue": "setting an array element with a sequence. The requested array has an inhomogeneous shape after 1 dimensions. The detected shape was (10,) + inhomogeneous part.",
     "output_type": "error",
     "traceback": [
      "\u001b[0;31m---------------------------------------------------------------------------\u001b[0m",
      "\u001b[0;31mValueError\u001b[0m                                Traceback (most recent call last)",
      "Cell \u001b[0;32mIn[39], line 1\u001b[0m\n\u001b[0;32m----> 1\u001b[0m np\u001b[38;5;241m.\u001b[39mmean(ged_norm_spatial,axis\u001b[38;5;241m=\u001b[39m\u001b[38;5;241m1\u001b[39m)\n",
      "File \u001b[0;32m<__array_function__ internals>:200\u001b[0m, in \u001b[0;36mmean\u001b[0;34m(*args, **kwargs)\u001b[0m\n",
      "File \u001b[0;32m~/opt/anaconda3/envs/cscg/lib/python3.11/site-packages/numpy/core/fromnumeric.py:3464\u001b[0m, in \u001b[0;36mmean\u001b[0;34m(a, axis, dtype, out, keepdims, where)\u001b[0m\n\u001b[1;32m   3461\u001b[0m     \u001b[38;5;28;01melse\u001b[39;00m:\n\u001b[1;32m   3462\u001b[0m         \u001b[38;5;28;01mreturn\u001b[39;00m mean(axis\u001b[38;5;241m=\u001b[39maxis, dtype\u001b[38;5;241m=\u001b[39mdtype, out\u001b[38;5;241m=\u001b[39mout, \u001b[38;5;241m*\u001b[39m\u001b[38;5;241m*\u001b[39mkwargs)\n\u001b[0;32m-> 3464\u001b[0m \u001b[38;5;28;01mreturn\u001b[39;00m _methods\u001b[38;5;241m.\u001b[39m_mean(a, axis\u001b[38;5;241m=\u001b[39maxis, dtype\u001b[38;5;241m=\u001b[39mdtype,\n\u001b[1;32m   3465\u001b[0m                       out\u001b[38;5;241m=\u001b[39mout, \u001b[38;5;241m*\u001b[39m\u001b[38;5;241m*\u001b[39mkwargs)\n",
      "File \u001b[0;32m~/opt/anaconda3/envs/cscg/lib/python3.11/site-packages/numpy/core/_methods.py:165\u001b[0m, in \u001b[0;36m_mean\u001b[0;34m(a, axis, dtype, out, keepdims, where)\u001b[0m\n\u001b[1;32m    164\u001b[0m \u001b[38;5;28;01mdef\u001b[39;00m \u001b[38;5;21m_mean\u001b[39m(a, axis\u001b[38;5;241m=\u001b[39m\u001b[38;5;28;01mNone\u001b[39;00m, dtype\u001b[38;5;241m=\u001b[39m\u001b[38;5;28;01mNone\u001b[39;00m, out\u001b[38;5;241m=\u001b[39m\u001b[38;5;28;01mNone\u001b[39;00m, keepdims\u001b[38;5;241m=\u001b[39m\u001b[38;5;28;01mFalse\u001b[39;00m, \u001b[38;5;241m*\u001b[39m, where\u001b[38;5;241m=\u001b[39m\u001b[38;5;28;01mTrue\u001b[39;00m):\n\u001b[0;32m--> 165\u001b[0m     arr \u001b[38;5;241m=\u001b[39m asanyarray(a)\n\u001b[1;32m    167\u001b[0m     is_float16_result \u001b[38;5;241m=\u001b[39m \u001b[38;5;28;01mFalse\u001b[39;00m\n\u001b[1;32m    169\u001b[0m     rcount \u001b[38;5;241m=\u001b[39m _count_reduce_items(arr, axis, keepdims\u001b[38;5;241m=\u001b[39mkeepdims, where\u001b[38;5;241m=\u001b[39mwhere)\n",
      "\u001b[0;31mValueError\u001b[0m: setting an array element with a sequence. The requested array has an inhomogeneous shape after 1 dimensions. The detected shape was (10,) + inhomogeneous part."
     ]
    }
   ],
   "source": [
    "np.mean(ged_norm_spatial,axis=1)"
   ]
  },
  {
   "cell_type": "code",
   "execution_count": 45,
   "metadata": {},
   "outputs": [
    {
     "data": {
      "text/plain": [
       "0.8337886908656904"
      ]
     },
     "execution_count": 45,
     "metadata": {},
     "output_type": "execute_result"
    }
   ],
   "source": [
    "np.mean(ged_norm_spatial_PE)"
   ]
  },
  {
   "cell_type": "code",
   "execution_count": 43,
   "metadata": {},
   "outputs": [
    {
     "data": {
      "text/plain": [
       "array([0.68115668, 0.79651199, 0.75327181, 0.70527842, 0.66311225])"
      ]
     },
     "execution_count": 43,
     "metadata": {},
     "output_type": "execute_result"
    }
   ],
   "source": [
    "ged_norm_spatial_benchmark = np.load('ged_norm_spatial_benchmark.npy', allow_pickle=True)\n",
    "np.mean(ged_norm_spatial_benchmark,axis=1)"
   ]
  },
  {
   "cell_type": "code",
   "execution_count": 33,
   "metadata": {},
   "outputs": [
    {
     "data": {
      "text/plain": [
       "array([147.82, 291.18, 242.11, 198.16, 171.61])"
      ]
     },
     "execution_count": 33,
     "metadata": {},
     "output_type": "execute_result"
    }
   ],
   "source": [
    "ged_spatial_benchmark = np.load('ged_spatial_benchmark.npy', allow_pickle=True)\n",
    "np.mean(ged_spatial_benchmark,axis=1)"
   ]
  },
  {
   "cell_type": "code",
   "execution_count": 6,
   "metadata": {},
   "outputs": [
    {
     "data": {
      "text/plain": [
       "array([ 489.32, 1010.6 , 1543.71, 2094.11])"
      ]
     },
     "execution_count": 6,
     "metadata": {},
     "output_type": "execute_result"
    }
   ],
   "source": [
    "ged_modular_benchmark = np.load('ged_modular_benchmark.npy', allow_pickle=True)\n",
    "np.mean(ged_modular_benchmark,axis=1)"
   ]
  },
  {
   "cell_type": "code",
   "execution_count": 7,
   "metadata": {},
   "outputs": [
    {
     "data": {
      "text/plain": [
       "array([ 250.94,  573.88,  993.68, 1528.54])"
      ]
     },
     "execution_count": 7,
     "metadata": {},
     "output_type": "execute_result"
    }
   ],
   "source": [
    "ged_lattice_benchmark = np.load('ged_lattice_benchmark.npy', allow_pickle=True)\n",
    "np.mean(ged_lattice_benchmark,axis=1)"
   ]
  },
  {
   "cell_type": "code",
   "execution_count": 11,
   "metadata": {},
   "outputs": [],
   "source": [
    "ged_spatial_subset = ged_spatial[:, [1,3,5,7]]"
   ]
  },
  {
   "cell_type": "code",
   "execution_count": 7,
   "metadata": {},
   "outputs": [
    {
     "data": {
      "text/plain": [
       "(10, 100)"
      ]
     },
     "execution_count": 7,
     "metadata": {},
     "output_type": "execute_result"
    }
   ],
   "source": [
    "np.shape(ged_spatial)"
   ]
  },
  {
   "cell_type": "code",
   "execution_count": 13,
   "metadata": {},
   "outputs": [
    {
     "data": {
      "text/plain": [
       "array([150.5 , 167.25, 179.  , 209.5 , 224.75, 238.5 , 220.  , 307.5 ,\n",
       "       329.5 , 352.5 ])"
      ]
     },
     "execution_count": 13,
     "metadata": {},
     "output_type": "execute_result"
    }
   ],
   "source": [
    "means_group1"
   ]
  },
  {
   "cell_type": "code",
   "execution_count": 19,
   "metadata": {},
   "outputs": [
    {
     "data": {
      "text/plain": [
       "(4, 100)"
      ]
     },
     "execution_count": 19,
     "metadata": {},
     "output_type": "execute_result"
    }
   ],
   "source": [
    "np.shape(ged_spatial[[1,3,5,7],:])"
   ]
  },
  {
   "cell_type": "code",
   "execution_count": 51,
   "metadata": {},
   "outputs": [
    {
     "data": {
      "image/png": "[encoded data removed]",
      "text/plain": [
       "<Figure size 640x480 with 1 Axes>"
      ]
     },
     "metadata": {},
     "output_type": "display_data"
    }
   ],
   "source": [
    "import numpy as np\n",
    "import matplotlib.pyplot as plt\n",
    "\n",
    "# # Assuming you have two sets of matrix data, each of size (10, 100)\n",
    "# np.random.seed(0)  # For reproducibility\n",
    "# matrix_group1 = np.random.rand(10, 100)\n",
    "# matrix_group2 = np.random.rand(10, 100)\n",
    "\n",
    "# # Select elements at positions 2, 4, 6, 8, 10 from each row (indices 1, 3, 5, 7, 9)\n",
    "# selected_elements_group1 = matrix_group1[:, [1, 3, 5, 7, 9]]\n",
    "# selected_elements_group2 = matrix_group2[:, [1, 3, 5, 7, 9]]\n",
    "selected_elements_group1 = ged_spatial[[1,3,5,7,9],:]\n",
    "selected_elements_group2 = ged_spatial_benchmark\n",
    "# Calculate means and standard errors of the means (SEM) for each category in both groups\n",
    "means_group1 = np.mean(selected_elements_group1, axis=1)\n",
    "sems_group1 = np.std(selected_elements_group1, axis=1) / np.sqrt(selected_elements_group1.shape[1])\n",
    "\n",
    "means_group2 = np.mean(selected_elements_group2, axis=1)\n",
    "sems_group2 = np.std(selected_elements_group2, axis=1) / np.sqrt(selected_elements_group2.shape[1])\n",
    "\n",
    "# Plotting\n",
    "categories = ['Category 1', 'Category 2', 'Category 3', 'Category 4', 'Category 5']\n",
    "categories = ['alpha=0.1 \\n nclone=10', \n",
    "              'alpha=0.3 \\n nclone=70', \n",
    "              'alpha=0.5 \\n nclone=130', \n",
    "              'alpha=0.7 \\n nclone=190', \n",
    "              'alpha=0.9 \\n nclone=250']\n",
    "x = np.arange(len(categories))  # X positions for the groups\n",
    "\n",
    "fig, ax = plt.subplots()\n",
    "width = 0.35  # Width of the bars\n",
    "\n",
    "# Group 1\n",
    "rects1 = ax.bar(x - width/2, means_group1, width, yerr=sems_group1, label='Our model', capsize=5, color='blue', alpha=0.7)\n",
    "# Overlay individual points for Group 1\n",
    "for idx, xpos in enumerate(x - width/2):\n",
    "    ax.scatter([xpos] * selected_elements_group1.shape[1], selected_elements_group1[idx, :], color='darkblue', alpha=0.6)\n",
    "\n",
    "# Group 2\n",
    "rects2 = ax.bar(x + width/2, means_group2, width, yerr=sems_group2, label='Benchmark', capsize=5, color='green', alpha=0.7)\n",
    "# Overlay individual points for Group 2\n",
    "for idx, xpos in enumerate(x + width/2):\n",
    "    ax.scatter([xpos] * selected_elements_group2.shape[1], selected_elements_group2[idx, :], color='darkgreen', alpha=0.6)\n",
    "\n",
    "ax.set_ylabel('Graph edit distance')\n",
    "ax.set_xticks(x)\n",
    "ax.set_xticklabels(categories)\n",
    "ax.set_title('Graph edit distance (spatial)')\n",
    "ax.yaxis.grid(True)\n",
    "ax.legend()\n",
    "\n",
    "plt.tight_layout()\n",
    "\n",
    "plt.savefig('ged_spatial.png')\n",
    "plt.show()\n"
   ]
  },
  {
   "cell_type": "code",
   "execution_count": 22,
   "metadata": {},
   "outputs": [],
   "source": [
    "nodes_spatial = np.genfromtxt('spatial_results.csv', delimiter=',', skip_header=1)\n",
    "nodes_spatial_PE = np.genfromtxt('spatial_results_PE.csv', delimiter=',', skip_header=1)\n",
    "nodes_spatial_benchmark = np.genfromtxt('spatial_results_benchmark.csv', delimiter=',', skip_header=1)"
   ]
  },
  {
   "cell_type": "code",
   "execution_count": 38,
   "metadata": {},
   "outputs": [
    {
     "data": {
      "text/plain": [
       "(100, 5)"
      ]
     },
     "execution_count": 38,
     "metadata": {},
     "output_type": "execute_result"
    }
   ],
   "source": [
    "np.shape(nodes_spatial_benchmark)"
   ]
  },
  {
   "cell_type": "code",
   "execution_count": 37,
   "metadata": {},
   "outputs": [
    {
     "data": {
      "text/plain": [
       "(100, 5)"
      ]
     },
     "execution_count": 37,
     "metadata": {},
     "output_type": "execute_result"
    }
   ],
   "source": [
    "np.shape(nodes_spatial[:,[1,3,5,7,9]])"
   ]
  },
  {
   "cell_type": "code",
   "execution_count": 40,
   "metadata": {},
   "outputs": [
    {
     "data": {
      "text/plain": [
       "array([35.8, 30. , 28.2, 40.6, 34.8, 42. , 36.4, 36.8, 26.8, 41.2, 36.4,\n",
       "       35. , 39.4, 35. , 35.2, 34.8, 36. , 32.6, 36.2, 28.8, 31.8, 36.2,\n",
       "       31.4, 37.8, 38. , 40.6, 34.8, 38.2, 41.4, 38.2, 35.4, 37.6, 32. ,\n",
       "       40.6, 43.4, 32.4, 34.4, 35.2, 35. , 30.8, 29.4, 28.4, 29.8, 33.8,\n",
       "       36.8, 34.6, 34.4, 27.6, 32.2, 35.4, 31.2, 35.4, 42.6, 39.4, 40.6,\n",
       "       39. , 36.4, 36.8, 41.8, 42. , 34.6, 37.8, 35. , 32.6, 44.6, 35.8,\n",
       "       28.4, 35.6, 36.4, 29.8, 39.6, 36. , 37.4, 37.2, 31.8, 42.2, 33.4,\n",
       "       41.4, 33. , 39.6, 33.2, 29.6, 30.2, 41.2, 31.8, 40. , 36.4, 34. ,\n",
       "       41.8, 36.8, 37.4, 35.4, 36. , 37. , 31.2, 47. , 31.8, 30.6, 34.4,\n",
       "       36.8])"
      ]
     },
     "execution_count": 40,
     "metadata": {},
     "output_type": "execute_result"
    }
   ],
   "source": [
    "np.mean(selected_elements_group1, axis=1)"
   ]
  },
  {
   "cell_type": "code",
   "execution_count": 12,
   "metadata": {},
   "outputs": [],
   "source": [
    "\n",
    "# Increase font sizes\n",
    "xlabel_size = 20\n",
    "ylabel_size = 20\n",
    "title_size = 20\n",
    "legend_size = 15\n",
    "tick_label_size = 15\n"
   ]
  },
  {
   "cell_type": "code",
   "execution_count": 97,
   "metadata": {},
   "outputs": [
    {
     "data": {
      "image/png": "[encoded data removed]",
      "text/plain": [
       "<Figure size 500x500 with 1 Axes>"
      ]
     },
     "metadata": {},
     "output_type": "display_data"
    }
   ],
   "source": [
    "import numpy as np\n",
    "import matplotlib.pyplot as plt\n",
    "\n",
    "# # Assuming you have two sets of matrix data, each of size (10, 100)\n",
    "# np.random.seed(0)  # For reproducibility\n",
    "# matrix_group1 = np.random.rand(10, 100)\n",
    "# matrix_group2 = np.random.rand(10, 100)\n",
    "\n",
    "# # Select elements at positions 2, 4, 6, 8, 10 from each row (indices 1, 3, 5, 7, 9)\n",
    "# selected_elements_group1 = matrix_group1[:, [1, 3, 5, 7, 9]]\n",
    "# selected_elements_group2 = matrix_group2[:, [1, 3, 5, 7, 9]]\n",
    "selected_elements_group1 = np.transpose(nodes_spatial[:,[1,3,5,7,9]])\n",
    "selected_elements_group2 = np.transpose(nodes_spatial_benchmark)\n",
    "selected_elements_group3 = np.transpose(nodes_spatial_PE)\n",
    "# Calculate means and standard errors of the means (SEM) for each category in both groups\n",
    "means_group1 = np.mean(selected_elements_group1, axis=1)\n",
    "sems_group1 = np.std(selected_elements_group1, axis=1) / np.sqrt(selected_elements_group1.shape[1])\n",
    "\n",
    "means_group2 = np.mean(selected_elements_group2, axis=1)\n",
    "sems_group2 = np.std(selected_elements_group2, axis=1) / np.sqrt(selected_elements_group2.shape[1])\n",
    "\n",
    "means_group3 = np.mean(selected_elements_group3)\n",
    "sems_group3 = np.std(selected_elements_group3) / np.sqrt(selected_elements_group3.shape[0])\n",
    "\n",
    "\n",
    "# Selecting one specific bar from the second group as a reference (e.g., the mean of the first category)\n",
    "ref_mean = np.mean(selected_elements_group2[1, :])  # Assume we select the first category as the reference\n",
    "ref_sem = np.std(selected_elements_group2[1, :]) / np.sqrt(selected_elements_group2.shape[1])\n",
    "\n",
    "# Plotting setup\n",
    "# categories = ['Reference', 'Category 1', 'Category 2', 'Category 3', 'Category 4', 'Category 5']\n",
    "categories = ['Benchmark',\n",
    "                'alpha=0.2', \n",
    "              'alpha=0.4', \n",
    "              'alpha=0.6', \n",
    "              'alpha=0.8', \n",
    "              'alpha=1.0', \n",
    "             'CSCG-LCM+PE']\n",
    "x = np.arange(len(categories))  # X positions for all bars including the reference\n",
    "\n",
    "fig, ax = plt.subplots(figsize=(5,5))\n",
    "width = 0.35  # Width of the bars\n",
    "\n",
    "# # Plotting the reference bar separately\n",
    "# ax.bar(x[0], ref_mean, width, yerr=ref_sem, label='Benchmark', capsize=5, color='gray', alpha=0.7)\n",
    "\n",
    "# Plotting the reference bar separately\n",
    "ref_bar = ax.bar(x[0], ref_mean, width, yerr=ref_sem, label='Benchmark', capsize=5, color='gray', alpha=0.7)\n",
    "# Overlay individual points for the reference bar\n",
    "ax.scatter([x[0]] * selected_elements_group2.shape[1], selected_elements_group2[1, :], color='gray', alpha=0.3)\n",
    "\n",
    "\n",
    "# Plotting bars for Group 1\n",
    "rects1 = ax.bar(x[1:6], means_group1, width, yerr=sems_group1, label='CSCG-LCM', capsize=5, color='blue', alpha=0.7)\n",
    "# Overlay individual points for Group 1\n",
    "for idx, xpos in enumerate(x[1:6]):\n",
    "    ax.scatter([xpos] * selected_elements_group1.shape[1], selected_elements_group1[idx, :], color='blue', alpha=0.3)\n",
    "\n",
    "    \n",
    "rects1 = ax.bar(x[-1], means_group3, width, yerr=sems_group3, label='CSCG-LCM+PE', capsize=5, color='purple', alpha=0.7)\n",
    "ax.scatter([x[-1]] * selected_elements_group3.shape[0], selected_elements_group3[:], color='purple', alpha=0.3)\n",
    "\n",
    "# General settings\n",
    "# ax.set_ylabel('Values')\n",
    "# ax.set_xticks(x)\n",
    "# ax.set_xticklabels(categories)\n",
    "# ax.set_title('Comparison of Five Categories with a Reference Bar')\n",
    "# ax.yaxis.grid(True)\n",
    "# ax.legend()\n",
    "\n",
    "gt_value = 48\n",
    "ax.axhline(y=gt_value, color='red', linestyle='--', linewidth=2, label='Ground Truth')\n",
    "\n",
    "\n",
    "# plt.tight_layout()\n",
    "# plt.show()\n",
    "\n",
    "# # Plotting\n",
    "# categories = ['Category 1', 'Category 2', 'Category 3', 'Category 4', 'Category 5']\n",
    "\n",
    "# x = np.arange(len(categories))  # X positions for the groups\n",
    "\n",
    "# fig, ax = plt.subplots()\n",
    "# width = 0.35  # Width of the bars\n",
    "\n",
    "# # Group 1\n",
    "# rects1 = ax.bar(x - width/2, means_group1, width, yerr=sems_group1, label='Our model', capsize=5, color='blue', alpha=0.7)\n",
    "# # Overlay individual points for Group 1\n",
    "# for idx, xpos in enumerate(x - width/2):\n",
    "#     ax.scatter([xpos] * selected_elements_group1.shape[1], selected_elements_group1[idx, :], color='darkblue', alpha=0.6)\n",
    "\n",
    "# # Group 2\n",
    "# rects2 = ax.bar(x + width/2, means_group2, width, yerr=sems_group2, label='Benchmark', capsize=5, color='green', alpha=0.7)\n",
    "# # Overlay individual points for Group 2\n",
    "# for idx, xpos in enumerate(x + width/2):\n",
    "#     ax.scatter([xpos] * selected_elements_group2.shape[1], selected_elements_group2[idx, :], color='darkgreen', alpha=0.6)\n",
    "\n",
    "\n",
    "# Adjust the x-tick label size if necessary for space\n",
    "plt.setp(ax.get_xticklabels(), rotation=45, ha='right', fontsize=tick_label_size)\n",
    "\n",
    "# ax.set_ylabel('Number of recovered nodes', fontsize=ylabel_size)\n",
    "ax.set_xticks(x)\n",
    "ax.set_xticklabels(categories)\n",
    "# Set the font size for tick labels\n",
    "ax.tick_params(axis='both', which='major', labelsize=tick_label_size)\n",
    "ax.set_title('Number of recovered nodes', fontsize=title_size)\n",
    "ax.yaxis.grid(True)\n",
    "ax.legend()\n",
    "\n",
    "plt.tight_layout()\n",
    "\n",
    "plt.savefig('node_spatial_2.png')\n",
    "plt.show()\n"
   ]
  },
  {
   "cell_type": "code",
   "execution_count": null,
   "metadata": {},
   "outputs": [],
   "source": []
  },
  {
   "cell_type": "code",
   "execution_count": 17,
   "metadata": {},
   "outputs": [],
   "source": [
    "selected_elements_group1 = ged_spatial[[1,3,5,7,9],:]\n",
    "selected_elements_group2 = ged_spatial_benchmark"
   ]
  },
  {
   "cell_type": "code",
   "execution_count": 22,
   "metadata": {},
   "outputs": [
    {
     "data": {
      "text/plain": [
       "array([10.68249837,  7.89810884,  6.79569892,  6.24884488,  5.95349676])"
      ]
     },
     "execution_count": 22,
     "metadata": {},
     "output_type": "execute_result"
    }
   ],
   "source": [
    "normalized_ged_spatial = np.mean(selected_elements_group1, axis=1)\n",
    "normalized_ged_spatial / means_group1"
   ]
  },
  {
   "cell_type": "code",
   "execution_count": 24,
   "metadata": {},
   "outputs": [
    {
     "data": {
      "text/plain": [
       "array([3.7776642 , 3.62254292, 3.4152913 , 3.17615002, 2.9814107 ])"
      ]
     },
     "execution_count": 24,
     "metadata": {},
     "output_type": "execute_result"
    }
   ],
   "source": [
    "normalized_ged_spatial_benchmark = np.mean(selected_elements_group2, axis=1)\n",
    "normalized_ged_spatial_benchmark / means_group2"
   ]
  },
  {
   "cell_type": "code",
   "execution_count": 23,
   "metadata": {},
   "outputs": [
    {
     "data": {
      "text/plain": [
       "array([147.82, 291.18, 242.11, 198.16, 171.61])"
      ]
     },
     "execution_count": 23,
     "metadata": {},
     "output_type": "execute_result"
    }
   ],
   "source": [
    "np.mean(selected_elements_group2, axis=1)"
   ]
  },
  {
   "cell_type": "code",
   "execution_count": 11,
   "metadata": {},
   "outputs": [
    {
     "data": {
      "text/plain": [
       "array([15.37, 25.91, 36.27, 45.45, 55.48])"
      ]
     },
     "execution_count": 11,
     "metadata": {},
     "output_type": "execute_result"
    }
   ],
   "source": [
    "means_group1"
   ]
  },
  {
   "cell_type": "code",
   "execution_count": 12,
   "metadata": {},
   "outputs": [
    {
     "data": {
      "text/plain": [
       "array([39.13, 80.38, 70.89, 62.39, 57.56])"
      ]
     },
     "execution_count": 12,
     "metadata": {},
     "output_type": "execute_result"
    }
   ],
   "source": [
    "means_group2"
   ]
  },
  {
   "cell_type": "code",
   "execution_count": 16,
   "metadata": {},
   "outputs": [
    {
     "data": {
      "text/plain": [
       "array([150.93, 164.19, 179.  , 204.64, 229.03, 246.48, 220.  , 284.01,\n",
       "       307.69, 330.3 ])"
      ]
     },
     "execution_count": 16,
     "metadata": {},
     "output_type": "execute_result"
    }
   ],
   "source": [
    "np.mean(ged_spatial,axis=1)"
   ]
  },
  {
   "cell_type": "code",
   "execution_count": 25,
   "metadata": {},
   "outputs": [],
   "source": [
    "node_means_group1 = means_group1\n",
    "node_means_group2 = means_group2"
   ]
  },
  {
   "cell_type": "code",
   "execution_count": null,
   "metadata": {},
   "outputs": [],
   "source": []
  },
  {
   "cell_type": "code",
   "execution_count": 124,
   "metadata": {},
   "outputs": [],
   "source": [
    "from scipy.stats import ttest_ind"
   ]
  },
  {
   "cell_type": "code",
   "execution_count": 128,
   "metadata": {},
   "outputs": [
    {
     "name": "stdout",
     "output_type": "stream",
     "text": [
      "TtestResult(statistic=-38.41610509795253, pvalue=5.039078135149622e-94, df=198.0)\n",
      "TtestResult(statistic=-22.581955355627347, pvalue=5.52519163415906e-57, df=198.0)\n",
      "TtestResult(statistic=-10.835622894275259, pvalue=4.406661497356357e-22, df=198.0)\n",
      "TtestResult(statistic=-1.4713945492495717, pvalue=0.07138599273849079, df=198.0)\n",
      "TtestResult(statistic=6.415651358729895, pvalue=0.9999999994943742, df=198.0)\n"
     ]
    }
   ],
   "source": [
    "print(ttest_ind(ged_spatial[1,:], ged_spatial_benchmark[1], alternative='less'))\n",
    "print(ttest_ind(ged_spatial[3,:], ged_spatial_benchmark[1], alternative='less'))\n",
    "print(ttest_ind(ged_spatial[5,:], ged_spatial_benchmark[1], alternative='less'))\n",
    "print(ttest_ind(ged_spatial[7,:], ged_spatial_benchmark[1], alternative='less'))\n",
    "print(ttest_ind(ged_spatial[9,:], ged_spatial_benchmark[1], alternative='less'))"
   ]
  },
  {
   "cell_type": "code",
   "execution_count": 129,
   "metadata": {},
   "outputs": [
    {
     "data": {
      "text/plain": [
       "(100, 10)"
      ]
     },
     "execution_count": 129,
     "metadata": {},
     "output_type": "execute_result"
    }
   ],
   "source": [
    "np.shape(nodes_spatial)"
   ]
  },
  {
   "cell_type": "code",
   "execution_count": 131,
   "metadata": {},
   "outputs": [
    {
     "name": "stdout",
     "output_type": "stream",
     "text": [
      "TtestResult(statistic=-21.658995303924083, pvalue=3.86817086868101e-40, df=103.0)\n",
      "TtestResult(statistic=-14.117471465687162, pvalue=7.964338784619623e-26, df=103.0)\n",
      "TtestResult(statistic=-9.59754055529666, pvalue=5.812220378186928e-16, df=103.0)\n",
      "TtestResult(statistic=-5.709179026567683, pvalue=1.1025659937402698e-07, df=103.0)\n",
      "TtestResult(statistic=-2.5907910450231335, pvalue=0.010963469728111087, df=103.0)\n"
     ]
    }
   ],
   "source": [
    "print(ttest_ind(nodes_spatial[:,1], nodes_spatial_benchmark[1]))\n",
    "print(ttest_ind(nodes_spatial[:,3], nodes_spatial_benchmark[1]))\n",
    "print(ttest_ind(nodes_spatial[:,5], nodes_spatial_benchmark[1]))\n",
    "print(ttest_ind(nodes_spatial[:,7], nodes_spatial_benchmark[1]))\n",
    "print(ttest_ind(nodes_spatial[:,9], nodes_spatial_benchmark[1]))"
   ]
  },
  {
   "cell_type": "code",
   "execution_count": 144,
   "metadata": {},
   "outputs": [
    {
     "name": "stdout",
     "output_type": "stream",
     "text": [
      "alpha: 1\n",
      "TtestResult(statistic=0.36800456451010266, pvalue=0.713262939143759, df=198.0)\n",
      "32.63 32.38\n",
      "alpha: 3\n",
      "TtestResult(statistic=-13.476565183928297, pvalue=8.420918913800706e-30, df=198.0)\n",
      "22.09 32.38\n",
      "alpha: 5\n",
      "TtestResult(statistic=-25.693772702849476, pvalue=5.69463066082425e-65, df=198.0)\n",
      "11.75 32.38\n",
      "alpha: 7\n",
      "TtestResult(statistic=-37.188001203151835, pvalue=2.8762916898750386e-91, df=198.0)\n",
      "5.89 32.38\n",
      "alpha: 9\n",
      "TtestResult(statistic=-27.828475742017016, pvalue=2.3663771504798342e-70, df=198.0)\n",
      "8.46 32.38\n"
     ]
    }
   ],
   "source": [
    "gt = 48\n",
    "for alpha in [1,3,5,7,9]:\n",
    "    our = np.abs([x - gt for x in nodes_spatial[:,alpha]])\n",
    "    bench =  np.abs([x - gt for x in nodes_spatial_benchmark[:,1]])\n",
    "    print('alpha: {}'.format(alpha))\n",
    "    print(ttest_ind(our, bench))\n",
    "    print(np.mean(our), np.mean(bench))\n",
    "\n",
    "# data = [10, 20, 30, 40, 50]\n",
    "# value_to_subtract = 5\n",
    "# new_data = [x - value_to_subtract for x in data]"
   ]
  },
  {
   "cell_type": "code",
   "execution_count": 141,
   "metadata": {},
   "outputs": [
    {
     "data": {
      "text/plain": [
       "array([ 8., 43., 28., 15.,  8.])"
      ]
     },
     "execution_count": 141,
     "metadata": {},
     "output_type": "execute_result"
    }
   ],
   "source": [
    "bench"
   ]
  },
  {
   "cell_type": "code",
   "execution_count": 142,
   "metadata": {},
   "outputs": [
    {
     "data": {
      "text/plain": [
       "array([ 7.,  0.,  0., 10.,  5., 22., 14.,  9.,  2., 19.,  2., 10., 11.,\n",
       "        2.,  5., 13.,  8.,  6.,  8.,  6.,  3.,  5.,  1., 15., 14.,  5.,\n",
       "        3., 12., 14., 15.,  6., 23.,  2., 18., 14.,  2.,  0.,  5.,  2.,\n",
       "        1.,  2.,  1.,  4., 10.,  9.,  3.,  9.,  5.,  3., 12.,  2., 18.,\n",
       "        8., 17., 21., 12., 10.,  7., 21., 18.,  4., 21.,  9.,  2., 16.,\n",
       "       10.,  1.,  4., 11.,  1., 12., 11., 12., 11., 10., 16.,  1., 13.,\n",
       "        6.,  9.,  2.,  1.,  2., 10., 10., 12.,  8.,  2., 14.,  4.,  9.,\n",
       "        2.,  9., 17.,  6., 28.,  1.,  7.,  3.,  8.])"
      ]
     },
     "execution_count": 142,
     "metadata": {},
     "output_type": "execute_result"
    }
   ],
   "source": [
    "our"
   ]
  },
  {
   "cell_type": "code",
   "execution_count": 143,
   "metadata": {},
   "outputs": [
    {
     "data": {
      "text/plain": [
       "(100, 5)"
      ]
     },
     "execution_count": 143,
     "metadata": {},
     "output_type": "execute_result"
    }
   ],
   "source": [
    "np.shape(nodes_spatial_benchmark)"
   ]
  },
  {
   "cell_type": "code",
   "execution_count": 130,
   "metadata": {},
   "outputs": [
    {
     "name": "stdout",
     "output_type": "stream",
     "text": [
      "TtestResult(statistic=-21.658995303924083, pvalue=1.934085434340505e-40, df=103.0)\n",
      "TtestResult(statistic=-14.117471465687162, pvalue=3.9821693923098116e-26, df=103.0)\n",
      "TtestResult(statistic=-9.59754055529666, pvalue=2.906110189093464e-16, df=103.0)\n",
      "TtestResult(statistic=-5.709179026567683, pvalue=5.512829968701349e-08, df=103.0)\n",
      "TtestResult(statistic=-2.5907910450231335, pvalue=0.0054817348640555435, df=103.0)\n"
     ]
    }
   ],
   "source": [
    "print(ttest_ind(nodes_spatial[:,1], nodes_spatial_benchmark[1], alternative='less'))\n",
    "print(ttest_ind(nodes_spatial[:,3], nodes_spatial_benchmark[1], alternative='less'))\n",
    "print(ttest_ind(nodes_spatial[:,5], nodes_spatial_benchmark[1], alternative='less'))\n",
    "print(ttest_ind(nodes_spatial[:,7], nodes_spatial_benchmark[1], alternative='less'))\n",
    "print(ttest_ind(nodes_spatial[:,9], nodes_spatial_benchmark[1], alternative='less'))"
   ]
  },
  {
   "cell_type": "code",
   "execution_count": 134,
   "metadata": {},
   "outputs": [
    {
     "name": "stdout",
     "output_type": "stream",
     "text": [
      "TtestResult(statistic=-797.7759298610906, pvalue=1.2485770689463154e-190, df=99)\n",
      "TtestResult(statistic=-528.0558566982597, pvalue=6.808882590210294e-173, df=99)\n",
      "TtestResult(statistic=-446.5158971412054, pvalue=1.1003124309933158e-165, df=99)\n",
      "TtestResult(statistic=-353.3237823918923, pvalue=1.2587832467683744e-155, df=99)\n",
      "TtestResult(statistic=-304.0871240457344, pvalue=3.5184951665164644e-149, df=99)\n"
     ]
    }
   ],
   "source": [
    "from scipy import stats\n",
    "\n",
    "print(stats.ttest_1samp(nodes_spatial[:,1], 280, alternative='less'))\n",
    "print(stats.ttest_1samp(nodes_spatial[:,3], 280, alternative='less'))\n",
    "print(stats.ttest_1samp(nodes_spatial[:,5], 280, alternative='less'))\n",
    "print(stats.ttest_1samp(nodes_spatial[:,7], 280, alternative='less'))\n",
    "print(stats.ttest_1samp(nodes_spatial[:,9], 280, alternative='less'))"
   ]
  },
  {
   "cell_type": "code",
   "execution_count": 135,
   "metadata": {},
   "outputs": [
    {
     "name": "stdout",
     "output_type": "stream",
     "text": [
      "TtestResult(statistic=-797.7759298610906, pvalue=2.497154137892631e-190, df=99)\n",
      "TtestResult(statistic=-528.0558566982597, pvalue=1.3617765180420588e-172, df=99)\n",
      "TtestResult(statistic=-446.5158971412054, pvalue=2.2006248619866315e-165, df=99)\n",
      "TtestResult(statistic=-353.3237823918923, pvalue=2.517566493536749e-155, df=99)\n",
      "TtestResult(statistic=-304.0871240457344, pvalue=7.036990333032929e-149, df=99)\n"
     ]
    }
   ],
   "source": [
    "print(stats.ttest_1samp(nodes_spatial[:,1], 280))\n",
    "print(stats.ttest_1samp(nodes_spatial[:,3], 280))\n",
    "print(stats.ttest_1samp(nodes_spatial[:,5], 280))\n",
    "print(stats.ttest_1samp(nodes_spatial[:,7], 280))\n",
    "print(stats.ttest_1samp(nodes_spatial[:,9], 280))"
   ]
  },
  {
   "cell_type": "code",
   "execution_count": 132,
   "metadata": {},
   "outputs": [
    {
     "ename": "TypeError",
     "evalue": "unsupported operand type(s) for -: 'int' and 'list'",
     "output_type": "error",
     "traceback": [
      "\u001b[0;31m---------------------------------------------------------------------------\u001b[0m",
      "\u001b[0;31mTypeError\u001b[0m                                 Traceback (most recent call last)",
      "Cell \u001b[0;32mIn[132], line 1\u001b[0m\n\u001b[0;32m----> 1\u001b[0m \u001b[39m48\u001b[39m \u001b[39m-\u001b[39m [\u001b[39m1\u001b[39m,\u001b[39m2\u001b[39m,\u001b[39m3\u001b[39m,\u001b[39m4\u001b[39m,\u001b[39m5\u001b[39m]\n",
      "\u001b[0;31mTypeError\u001b[0m: unsupported operand type(s) for -: 'int' and 'list'"
     ]
    }
   ],
   "source": [
    "48 - [1,2,3,4,5]"
   ]
  },
  {
   "cell_type": "code",
   "execution_count": 127,
   "metadata": {},
   "outputs": [
    {
     "name": "stdout",
     "output_type": "stream",
     "text": [
      "164.19 204.64 246.48 284.01 330.3\n",
      "291.18\n"
     ]
    }
   ],
   "source": [
    "print(np.mean(ged_spatial[1,:]), np.mean(ged_spatial[3,:]) , np.mean(ged_spatial[5,:]), np.mean(ged_spatial[7,:]), np.mean(ged_spatial[9,:]))\n",
    "print(np.mean(ged_spatial_benchmark[1]))"
   ]
  },
  {
   "cell_type": "code",
   "execution_count": 28,
   "metadata": {},
   "outputs": [
    {
     "data": {
      "text/plain": [
       "(5, 100)"
      ]
     },
     "execution_count": 28,
     "metadata": {},
     "output_type": "execute_result"
    }
   ],
   "source": [
    "np.shape(selected_elements_group1)"
   ]
  },
  {
   "cell_type": "code",
   "execution_count": 88,
   "metadata": {},
   "outputs": [
    {
     "data": {
      "image/png": "[encoded data removed]",
      "text/plain": [
       "<Figure size 500x500 with 1 Axes>"
      ]
     },
     "metadata": {},
     "output_type": "display_data"
    }
   ],
   "source": [
    "import numpy as np\n",
    "import matplotlib.pyplot as plt\n",
    "\n",
    "# # Assuming you have two sets of matrix data, each of size (10, 100)\n",
    "# np.random.seed(0)  # For reproducibility\n",
    "# matrix_group1 = np.random.rand(10, 100)\n",
    "# matrix_group2 = np.random.rand(10, 100)\n",
    "\n",
    "# # Select elements at positions 2, 4, 6, 8, 10 from each row (indices 1, 3, 5, 7, 9)\n",
    "# selected_elements_group1 = matrix_group1[:, [1, 3, 5, 7, 9]]\n",
    "# selected_elements_group2 = matrix_group2[:, [1, 3, 5, 7, 9]]\n",
    "\n",
    "# selected_elements_group1 = ged_norm_spatial[[1,3,5,7,9],:] #/ node_means_group1\n",
    "spatial_indices = [1,3,5,7,9]\n",
    "selected_elements_group1 = []\n",
    "# means\n",
    "for s in spatial_indices: \n",
    "    selected_elements_group1.append(ged_norm_spatial[s])\n",
    "\n",
    "# for i in range(len(selected_elements_group1)): \n",
    "#     selected_elements_group1[i, :] # /= means_group1[i]\n",
    "selected_elements_group2 = ged_norm_spatial_benchmark[1] #/ node_means_group2\n",
    "# for i in range(len(selected_elements_group2)): \n",
    "#     selected_elements_group2[i, :] /= means_group2[i]\n",
    "\n",
    "# for i in range(len(selected_elements_group3)): \n",
    "#     selected_elements_group3[i] /= nodes_spatial_PE[i]\n",
    "selected_elements_group3 = ged_norm_spatial_PE\n",
    "# Calculate means and standard errors of the means (SEM) for each category in both groups\n",
    "means_group1 = np.mean(selected_elements_group1, axis=1) #/ node_means_group1\n",
    "sems_group1 = np.std(selected_elements_group1, axis=1) / np.sqrt(np.shape(selected_elements_group1)[1])\n",
    "\n",
    "means_group2 = np.mean(selected_elements_group2) #/ node_means_group2\n",
    "sems_group2 = np.std(selected_elements_group2) / np.sqrt(selected_elements_group2.shape)\n",
    "\n",
    "\n",
    "means_group3 = np.mean(selected_elements_group3) #/ node_means_group2\n",
    "sems_group3 = np.std(selected_elements_group3) / np.sqrt(selected_elements_group3.shape[0])\n",
    "\n",
    "# Selecting one specific bar from the second group as a reference (e.g., the mean of the first category)\n",
    "ref_mean = np.mean(selected_elements_group2)  # Assume we select the first category as the reference\n",
    "ref_sem = np.std(selected_elements_group2) / np.sqrt(selected_elements_group2.shape)\n",
    "\n",
    "# Plotting setup\n",
    "# categories = ['Reference', 'Category 1', 'Category 2', 'Category 3', 'Category 4', 'Category 5']\n",
    "categories = ['Benchmark',\n",
    "                'alpha=0.2', \n",
    "              'alpha=0.4', \n",
    "              'alpha=0.6', \n",
    "              'alpha=0.8', \n",
    "              'alpha=1.0', \n",
    "             'CSCG-LCM + PE']\n",
    "x = np.arange(len(categories))  # X positions for all bars including the reference\n",
    "\n",
    "fig, ax = plt.subplots(figsize=(5,5))\n",
    "width = 0.35  # Width of the bars\n",
    "\n",
    "# # Plotting the reference bar separately\n",
    "# ax.bar(x[0], ref_mean, width, yerr=ref_sem, label='Benchmark', capsize=5, color='gray', alpha=0.7)\n",
    "\n",
    "# Plotting the reference bar separately\n",
    "ref_bar = ax.bar(x[0], ref_mean, width, yerr=ref_sem, label='Benchmark', capsize=5, color='gray', alpha=0.7)\n",
    "# Overlay individual points for the reference bar\n",
    "ax.scatter([x[0]] * selected_elements_group2.shape[0], selected_elements_group2, color='gray', alpha=0.3)\n",
    "\n",
    "\n",
    "# Plotting bars for Group 1\n",
    "rects1 = ax.bar(x[1:6], means_group1, width, yerr=sems_group1, label='CSCG-LCM', capsize=5, color='blue', alpha=0.7)\n",
    "# Overlay individual points for Group 1\n",
    "for idx, xpos in enumerate(x[1:6]):\n",
    "    ax.scatter([xpos] * np.shape(selected_elements_group1)[1], selected_elements_group1[idx], color='blue', alpha=0.3)\n",
    "# rects1 = ax.bar(x[1:6], means_group1, width, yerr=sems_group1, label='Proposed model', capsize=5, color='blue', alpha=0.7)\n",
    "# # Overlay individual points for Group 1\n",
    "# for idx, xpos in enumerate(x[1:6]):\n",
    "#     ax.scatter([xpos] * selected_elements_group1.shape[1], selected_elements_group1[idx, :], color='blue', alpha=0.3)\n",
    "\n",
    "    \n",
    "    \n",
    "    \n",
    "# Plotting bars for PE model\n",
    "rects2 = ax.bar(x[-1], means_group3, width, yerr=ref_sem, label='CSCG-LCM + PE', capsize=5, color='purple', alpha=0.7)\n",
    "# Overlay individual points for the reference bar\n",
    "ax.scatter([x[-1]] * np.shape(selected_elements_group3)[0], selected_elements_group3[:], color='purple', alpha=0.3)    \n",
    "# General settings\n",
    "# ax.set_ylabel('Values')\n",
    "# ax.set_xticks(x)\n",
    "# ax.set_xticklabels(categories)\n",
    "# ax.set_title('Comparison of Five Categories with a Reference Bar')\n",
    "# ax.yaxis.grid(True)\n",
    "# ax.legend()\n",
    "\n",
    "# gt_value = 48\n",
    "# ax.axhline(y=gt_value, color='red', linestyle='--', linewidth=2, label='Ground Truth')\n",
    "\n",
    "\n",
    "# plt.tight_layout()\n",
    "# plt.show()\n",
    "\n",
    "# # Plotting\n",
    "# categories = ['Category 1', 'Category 2', 'Category 3', 'Category 4', 'Category 5']\n",
    "\n",
    "# x = np.arange(len(categories))  # X positions for the groups\n",
    "\n",
    "# fig, ax = plt.subplots()\n",
    "# width = 0.35  # Width of the bars\n",
    "\n",
    "# # Group 1\n",
    "# rects1 = ax.bar(x - width/2, means_group1, width, yerr=sems_group1, label='Our model', capsize=5, color='blue', alpha=0.7)\n",
    "# # Overlay individual points for Group 1\n",
    "# for idx, xpos in enumerate(x - width/2):\n",
    "#     ax.scatter([xpos] * selected_elements_group1.shape[1], selected_elements_group1[idx, :], color='darkblue', alpha=0.6)\n",
    "\n",
    "# # Group 2\n",
    "# rects2 = ax.bar(x + width/2, means_group2, width, yerr=sems_group2, label='Benchmark', capsize=5, color='green', alpha=0.7)\n",
    "# # Overlay individual points for Group 2\n",
    "# for idx, xpos in enumerate(x + width/2):\n",
    "#     ax.scatter([xpos] * selected_elements_group2.shape[1], selected_elements_group2[idx, :], color='darkgreen', alpha=0.6)\n",
    "\n",
    "\n",
    "# Adjust the x-tick label size if necessary for space\n",
    "plt.setp(ax.get_xticklabels(), rotation=45, ha='right', fontsize=tick_label_size)\n",
    "\n",
    "# ax.set_ylabel('Graph edit distance', fontsize=ylabel_size)\n",
    "ax.set_xticks(x)\n",
    "ax.set_xticklabels(categories)\n",
    "# Set the font size for tick labels\n",
    "ax.tick_params(axis='both', which='major', labelsize=tick_label_size)\n",
    "ax.set_title('Normalized graph edit distance', fontsize=title_size)\n",
    "ax.yaxis.grid(True)\n",
    "# Set y-axis range\n",
    "ax.set_ylim(0.5, 1)\n",
    "ax.legend()\n",
    "\n",
    "plt.tight_layout()\n",
    "\n",
    "plt.savefig('ged_spatial.png')\n",
    "plt.show()\n"
   ]
  },
  {
   "cell_type": "code",
   "execution_count": 90,
   "metadata": {},
   "outputs": [],
   "source": [
    "from scipy.stats import ttest_ind"
   ]
  },
  {
   "cell_type": "code",
   "execution_count": 93,
   "metadata": {},
   "outputs": [
    {
     "name": "stdout",
     "output_type": "stream",
     "text": [
      "TtestResult(statistic=-8.482878703779543, pvalue=5.0782551064150326e-15, df=198.0)\n",
      "TtestResult(statistic=-18.768706990296597, pvalue=7.979668357378261e-46, df=198.0)\n",
      "TtestResult(statistic=-18.727630644024117, pvalue=1.053989681899619e-45, df=198.0)\n",
      "TtestResult(statistic=-16.211474643668033, pvalue=3.584143836078541e-38, df=198.0)\n",
      "TtestResult(statistic=-8.23645260868069, pvalue=2.377294368702888e-14, df=198.0)\n"
     ]
    }
   ],
   "source": [
    "print(ttest_ind(selected_elements_group1[0], selected_elements_group2))\n",
    "print(ttest_ind(selected_elements_group1[1], selected_elements_group2))\n",
    "print(ttest_ind(selected_elements_group1[2], selected_elements_group2))\n",
    "print(ttest_ind(selected_elements_group1[3], selected_elements_group2))\n",
    "print(ttest_ind(selected_elements_group1[4], selected_elements_group2))"
   ]
  },
  {
   "cell_type": "code",
   "execution_count": 94,
   "metadata": {},
   "outputs": [
    {
     "name": "stdout",
     "output_type": "stream",
     "text": [
      "TtestResult(statistic=-4.381440827415268, pvalue=2.7417646059364554e-05, df=108.0)\n"
     ]
    }
   ],
   "source": [
    "print(ttest_ind(selected_elements_group2, selected_elements_group3))\n"
   ]
  },
  {
   "cell_type": "code",
   "execution_count": 95,
   "metadata": {},
   "outputs": [
    {
     "name": "stdout",
     "output_type": "stream",
     "text": [
      "TtestResult(statistic=-8.299246411631133, pvalue=3.2628450185478624e-13, df=108.0)\n",
      "TtestResult(statistic=-15.76339854241067, pvalue=9.027469753813355e-30, df=108.0)\n",
      "TtestResult(statistic=-14.699087329703502, pvalue=1.5891897671862748e-27, df=108.0)\n",
      "TtestResult(statistic=-12.048474009868524, pvalue=1.0546801107353743e-21, df=108.0)\n",
      "TtestResult(statistic=-6.643225479442717, pvalue=1.2843211703186442e-09, df=108.0)\n"
     ]
    }
   ],
   "source": [
    "print(ttest_ind(selected_elements_group1[0], selected_elements_group3))\n",
    "print(ttest_ind(selected_elements_group1[1], selected_elements_group3))\n",
    "print(ttest_ind(selected_elements_group1[2], selected_elements_group3))\n",
    "print(ttest_ind(selected_elements_group1[3], selected_elements_group3))\n",
    "print(ttest_ind(selected_elements_group1[4], selected_elements_group3))"
   ]
  },
  {
   "cell_type": "code",
   "execution_count": null,
   "metadata": {},
   "outputs": [],
   "source": []
  },
  {
   "cell_type": "code",
   "execution_count": 86,
   "metadata": {},
   "outputs": [
    {
     "data": {
      "text/plain": [
       "[0, 0, 0, 0, 0]"
      ]
     },
     "execution_count": 86,
     "metadata": {},
     "output_type": "execute_result"
    }
   ],
   "source": [
    "[xpos] * np.shape(selected_elements_group1)[0]"
   ]
  },
  {
   "cell_type": "code",
   "execution_count": 87,
   "metadata": {},
   "outputs": [
    {
     "data": {
      "text/plain": [
       "array([0, 1, 2, 3, 4, 5, 6])"
      ]
     },
     "execution_count": 87,
     "metadata": {},
     "output_type": "execute_result"
    }
   ],
   "source": [
    "x"
   ]
  },
  {
   "cell_type": "code",
   "execution_count": 82,
   "metadata": {},
   "outputs": [
    {
     "data": {
      "text/plain": [
       "[0.7592592592592593,\n",
       " 0.7616580310880829,\n",
       " 0.7905759162303665,\n",
       " 0.7614678899082569,\n",
       " 0.7711442786069652,\n",
       " 0.734375,\n",
       " 0.7733990147783252,\n",
       " 0.7777777777777778,\n",
       " 0.797979797979798,\n",
       " 0.7699115044247787,\n",
       " 0.755656108597285,\n",
       " 0.7630331753554502,\n",
       " 0.7244094488188977,\n",
       " 0.7405857740585774,\n",
       " 0.7345132743362832,\n",
       " 0.7916666666666666,\n",
       " 0.7788461538461539,\n",
       " 0.78,\n",
       " 0.7596153846153846,\n",
       " 0.8390804597701149,\n",
       " 0.7810945273631841,\n",
       " 0.7435897435897436,\n",
       " 0.7688442211055276,\n",
       " 0.7716535433070866,\n",
       " 0.7663551401869159,\n",
       " 0.7709251101321586,\n",
       " 0.7614678899082569,\n",
       " 0.7402597402597403,\n",
       " 0.7788944723618091,\n",
       " 0.7711442786069652,\n",
       " 0.7938144329896907,\n",
       " 0.798941798941799,\n",
       " 0.755656108597285,\n",
       " 0.7920792079207921,\n",
       " 0.7327935222672065,\n",
       " 0.7222222222222222,\n",
       " 0.7824267782426778,\n",
       " 0.7787610619469026,\n",
       " 0.7547169811320755,\n",
       " 0.7889447236180904,\n",
       " 0.7846153846153846,\n",
       " 0.7959183673469388,\n",
       " 0.8111111111111111,\n",
       " 0.75,\n",
       " 0.7630331753554502,\n",
       " 0.7314814814814815,\n",
       " 0.7889447236180904,\n",
       " 0.7735849056603774,\n",
       " 0.7068965517241379,\n",
       " 0.7489177489177489,\n",
       " 0.7889447236180904,\n",
       " 0.8032786885245902,\n",
       " 0.7387755102040816,\n",
       " 0.7379912663755459,\n",
       " 0.7668161434977578,\n",
       " 0.7383177570093458,\n",
       " 0.7377049180327869,\n",
       " 0.7799043062200957,\n",
       " 0.8202247191011236,\n",
       " 0.7586206896551724,\n",
       " 0.7368421052631579,\n",
       " 0.786046511627907,\n",
       " 0.7737556561085973,\n",
       " 0.8074866310160428,\n",
       " 0.7192982456140351,\n",
       " 0.7641921397379913,\n",
       " 0.8222222222222222,\n",
       " 0.7636363636363637,\n",
       " 0.7581395348837209,\n",
       " 0.7570093457943925,\n",
       " 0.7372881355932204,\n",
       " 0.7610619469026548,\n",
       " 0.7676767676767676,\n",
       " 0.7452830188679245,\n",
       " 0.7888888888888889,\n",
       " 0.7387755102040816,\n",
       " 0.7883597883597884,\n",
       " 0.7589285714285714,\n",
       " 0.7327586206896551,\n",
       " 0.7777777777777778,\n",
       " 0.7511520737327189,\n",
       " 0.7789473684210526,\n",
       " 0.7589285714285714,\n",
       " 0.7725118483412322,\n",
       " 0.76,\n",
       " 0.7280701754385965,\n",
       " 0.744,\n",
       " 0.8074866310160428,\n",
       " 0.7383966244725738,\n",
       " 0.7478260869565218,\n",
       " 0.7410714285714286,\n",
       " 0.7846153846153846,\n",
       " 0.75,\n",
       " 0.7692307692307693,\n",
       " 0.7745098039215687,\n",
       " 0.7614678899082569,\n",
       " 0.7522935779816514,\n",
       " 0.825136612021858,\n",
       " 0.7222222222222222,\n",
       " 0.7552742616033755]"
      ]
     },
     "execution_count": 82,
     "metadata": {},
     "output_type": "execute_result"
    }
   ],
   "source": [
    "selected_elements_group1[idx]"
   ]
  },
  {
   "cell_type": "code",
   "execution_count": 71,
   "metadata": {},
   "outputs": [
    {
     "data": {
      "text/plain": [
       "(100,)"
      ]
     },
     "execution_count": 71,
     "metadata": {},
     "output_type": "execute_result"
    }
   ],
   "source": [
    "np.shape(selected_elements_group1[idx])"
   ]
  },
  {
   "cell_type": "code",
   "execution_count": 68,
   "metadata": {},
   "outputs": [
    {
     "data": {
      "text/plain": [
       "5"
      ]
     },
     "execution_count": 68,
     "metadata": {},
     "output_type": "execute_result"
    }
   ],
   "source": [
    "np.shape(selected_elements_group1)[0]"
   ]
  },
  {
   "cell_type": "code",
   "execution_count": 59,
   "metadata": {},
   "outputs": [
    {
     "data": {
      "text/plain": [
       "array([0.7971831 , 0.82125604, 0.79369628, 0.79614325, 0.81141439,\n",
       "       0.78571429, 0.83033419, 0.79096045, 0.80361757, 0.78666667,\n",
       "       0.80104712, 0.81420765, 0.86057692, 0.80053908, 0.81661891,\n",
       "       0.75522388, 0.74846626, 0.79310345, 0.75548589, 0.79069767,\n",
       "       0.81627297, 0.78362573, 0.808     , 0.79603399, 0.73214286,\n",
       "       0.81372549, 0.80371353, 0.77177177, 0.81917808, 0.84168865,\n",
       "       0.81432361, 0.80310881, 0.82188295, 0.79726027, 0.81818182,\n",
       "       0.77777778, 0.78306878, 0.77192982, 0.76854599, 0.77839335,\n",
       "       0.80609418, 0.78350515, 0.7672956 , 0.78056426, 0.81717452,\n",
       "       0.81725888, 0.76109215, 0.75792507, 0.82178218, 0.75438596,\n",
       "       0.73501577, 0.74763407, 0.80319149, 0.83113456, 0.79539642,\n",
       "       0.82843137, 0.83375315, 0.81298701, 0.81917808, 0.82749326,\n",
       "       0.81058496, 0.80751174, 0.84313725, 0.78488372, 0.77177177,\n",
       "       0.81067961, 0.8121547 , 0.81025641, 0.8045977 , 0.84732824,\n",
       "       0.75609756, 0.79768786, 0.8005698 , 0.7989418 , 0.75925926,\n",
       "       0.77464789, 0.79271709, 0.79545455, 0.81298701, 0.79501385,\n",
       "       0.76656151, 0.82016349, 0.76699029, 0.82653061, 0.80213904,\n",
       "       0.78796562, 0.79558011, 0.7740113 , 0.79941003, 0.82337662,\n",
       "       0.79240506, 0.80878553, 0.747851  , 0.76023392, 0.78823529,\n",
       "       0.81182796, 0.74850299, 0.84474886, 0.80104712, 0.82367758])"
      ]
     },
     "execution_count": 59,
     "metadata": {},
     "output_type": "execute_result"
    }
   ],
   "source": [
    "selected_elements_group2"
   ]
  },
  {
   "cell_type": "code",
   "execution_count": 48,
   "metadata": {},
   "outputs": [
    {
     "data": {
      "text/plain": [
       "[0.7592592592592593,\n",
       " 0.7616580310880829,\n",
       " 0.7905759162303665,\n",
       " 0.7614678899082569,\n",
       " 0.7711442786069652,\n",
       " 0.734375,\n",
       " 0.7733990147783252,\n",
       " 0.7777777777777778,\n",
       " 0.797979797979798,\n",
       " 0.7699115044247787,\n",
       " 0.755656108597285,\n",
       " 0.7630331753554502,\n",
       " 0.7244094488188977,\n",
       " 0.7405857740585774,\n",
       " 0.7345132743362832,\n",
       " 0.7916666666666666,\n",
       " 0.7788461538461539,\n",
       " 0.78,\n",
       " 0.7596153846153846,\n",
       " 0.8390804597701149,\n",
       " 0.7810945273631841,\n",
       " 0.7435897435897436,\n",
       " 0.7688442211055276,\n",
       " 0.7716535433070866,\n",
       " 0.7663551401869159,\n",
       " 0.7709251101321586,\n",
       " 0.7614678899082569,\n",
       " 0.7402597402597403,\n",
       " 0.7788944723618091,\n",
       " 0.7711442786069652,\n",
       " 0.7938144329896907,\n",
       " 0.798941798941799,\n",
       " 0.755656108597285,\n",
       " 0.7920792079207921,\n",
       " 0.7327935222672065,\n",
       " 0.7222222222222222,\n",
       " 0.7824267782426778,\n",
       " 0.7787610619469026,\n",
       " 0.7547169811320755,\n",
       " 0.7889447236180904,\n",
       " 0.7846153846153846,\n",
       " 0.7959183673469388,\n",
       " 0.8111111111111111,\n",
       " 0.75,\n",
       " 0.7630331753554502,\n",
       " 0.7314814814814815,\n",
       " 0.7889447236180904,\n",
       " 0.7735849056603774,\n",
       " 0.7068965517241379,\n",
       " 0.7489177489177489,\n",
       " 0.7889447236180904,\n",
       " 0.8032786885245902,\n",
       " 0.7387755102040816,\n",
       " 0.7379912663755459,\n",
       " 0.7668161434977578,\n",
       " 0.7383177570093458,\n",
       " 0.7377049180327869,\n",
       " 0.7799043062200957,\n",
       " 0.8202247191011236,\n",
       " 0.7586206896551724,\n",
       " 0.7368421052631579,\n",
       " 0.786046511627907,\n",
       " 0.7737556561085973,\n",
       " 0.8074866310160428,\n",
       " 0.7192982456140351,\n",
       " 0.7641921397379913,\n",
       " 0.8222222222222222,\n",
       " 0.7636363636363637,\n",
       " 0.7581395348837209,\n",
       " 0.7570093457943925,\n",
       " 0.7372881355932204,\n",
       " 0.7610619469026548,\n",
       " 0.7676767676767676,\n",
       " 0.7452830188679245,\n",
       " 0.7888888888888889,\n",
       " 0.7387755102040816,\n",
       " 0.7883597883597884,\n",
       " 0.7589285714285714,\n",
       " 0.7327586206896551,\n",
       " 0.7777777777777778,\n",
       " 0.7511520737327189,\n",
       " 0.7789473684210526,\n",
       " 0.7589285714285714,\n",
       " 0.7725118483412322,\n",
       " 0.76,\n",
       " 0.7280701754385965,\n",
       " 0.744,\n",
       " 0.8074866310160428,\n",
       " 0.7383966244725738,\n",
       " 0.7478260869565218,\n",
       " 0.7410714285714286,\n",
       " 0.7846153846153846,\n",
       " 0.75,\n",
       " 0.7692307692307693,\n",
       " 0.7745098039215687,\n",
       " 0.7614678899082569,\n",
       " 0.7522935779816514,\n",
       " 0.825136612021858,\n",
       " 0.7222222222222222,\n",
       " 0.7552742616033755]"
      ]
     },
     "execution_count": 48,
     "metadata": {},
     "output_type": "execute_result"
    }
   ],
   "source": [
    "ged_norm_spatial[1]"
   ]
  },
  {
   "cell_type": "code",
   "execution_count": 35,
   "metadata": {},
   "outputs": [
    {
     "data": {
      "image/png": "[encoded data removed]",
      "text/plain": [
       "<Figure size 500x500 with 1 Axes>"
      ]
     },
     "metadata": {},
     "output_type": "display_data"
    }
   ],
   "source": [
    "import numpy as np\n",
    "import matplotlib.pyplot as plt\n",
    "\n",
    "# # Assuming you have two sets of matrix data, each of size (10, 100)\n",
    "# np.random.seed(0)  # For reproducibility\n",
    "# matrix_group1 = np.random.rand(10, 100)\n",
    "# matrix_group2 = np.random.rand(10, 100)\n",
    "\n",
    "# # Select elements at positions 2, 4, 6, 8, 10 from each row (indices 1, 3, 5, 7, 9)\n",
    "# selected_elements_group1 = matrix_group1[:, [1, 3, 5, 7, 9]]\n",
    "# selected_elements_group2 = matrix_group2[:, [1, 3, 5, 7, 9]]\n",
    "\n",
    "selected_elements_group1 = ged_spatial[[1,3,5,7,9],:] #/ node_means_group1\n",
    "# for i in range(len(selected_elements_group1)): \n",
    "#     selected_elements_group1[i, :] /= node_means_group1[i]\n",
    "selected_elements_group2 = ged_spatial_benchmark # / node_means_group2\n",
    "selected_elements_group3 = ged_spatial_PE\n",
    "# for i in range(len(selected_elements_group2)): \n",
    "#     selected_elements_group2[i, :] /= node_means_group2[i]\n",
    "\n",
    "\n",
    "\n",
    "# Calculate means and standard errors of the means (SEM) for each category in both groups\n",
    "means_group1 = np.mean(selected_elements_group1, axis=1) #/ node_means_group1\n",
    "sems_group1 = np.std(selected_elements_group1, axis=1) / np.sqrt(selected_elements_group1.shape[1])\n",
    "\n",
    "means_group2 = np.mean(selected_elements_group2, axis=1) #/ node_means_group2\n",
    "sems_group2 = np.std(selected_elements_group2, axis=1) / np.sqrt(selected_elements_group2.shape[1])\n",
    "\n",
    "means_group3 = np.mean(selected_elements_group3) #/ node_means_group2\n",
    "sems_group3 = np.std(selected_elements_group3) / np.sqrt(selected_elements_group3.shape[0])\n",
    "\n",
    "\n",
    "# Selecting one specific bar from the second group as a reference (e.g., the mean of the first category)\n",
    "ref_mean = np.mean(selected_elements_group2[1, :])  # Assume we select the first category as the reference\n",
    "ref_sem = np.std(selected_elements_group2[1, :]) / np.sqrt(selected_elements_group2.shape[1])\n",
    "\n",
    "# Plotting setup\n",
    "# categories = ['Reference', 'Category 1', 'Category 2', 'Category 3', 'Category 4', 'Category 5']\n",
    "categories = ['Benchmark',\n",
    "                'alpha=0.2', \n",
    "              'alpha=0.4', \n",
    "              'alpha=0.6', \n",
    "              'alpha=0.8', \n",
    "              'alpha=1.0', \n",
    "             'PE model']\n",
    "x = np.arange(len(categories))  # X positions for all bars including the reference\n",
    "\n",
    "fig, ax = plt.subplots(figsize=(5,5))\n",
    "width = 0.35  # Width of the bars\n",
    "\n",
    "# # Plotting the reference bar separately\n",
    "# ax.bar(x[0], ref_mean, width, yerr=ref_sem, label='Benchmark', capsize=5, color='gray', alpha=0.7)\n",
    "\n",
    "# Plotting the reference bar separately\n",
    "ref_bar = ax.bar(x[0], ref_mean, width, yerr=ref_sem, label='Benchmark', capsize=5, color='gray', alpha=0.7)\n",
    "# Overlay individual points for the reference bar\n",
    "ax.scatter([x[0]] * selected_elements_group2.shape[1], selected_elements_group2[1, :], color='gray', alpha=0.3)\n",
    "\n",
    "\n",
    "# Plotting bars for Group 1\n",
    "rects1 = ax.bar(x[1:6], means_group1, width, yerr=sems_group1, label='Proposed model', capsize=5, color='blue', alpha=0.7)\n",
    "# Overlay individual points for Group 1\n",
    "for idx, xpos in enumerate(x[1:6]):\n",
    "    ax.scatter([xpos] * selected_elements_group1.shape[1], selected_elements_group1[idx, :], color='blue', alpha=0.3)\n",
    "\n",
    "    \n",
    "# Plotting bars for PE model\n",
    "rects2 = ax.bar(x[-1], means_group3, width, yerr=ref_sem, label='PE Model', capsize=5, color='purple', alpha=0.7)\n",
    "# Overlay individual points for the reference bar\n",
    "ax.scatter([x[-1]] * selected_elements_group3.shape[0], selected_elements_group3[:], color='purple', alpha=0.3)\n",
    "\n",
    "# General settings\n",
    "# ax.set_ylabel('Values')\n",
    "# ax.set_xticks(x)\n",
    "# ax.set_xticklabels(categories)\n",
    "# ax.set_title('Comparison of Five Categories with a Reference Bar')\n",
    "# ax.yaxis.grid(True)\n",
    "# ax.legend()\n",
    "\n",
    "# gt_value = 48\n",
    "# ax.axhline(y=gt_value, color='red', linestyle='--', linewidth=2, label='Ground Truth')\n",
    "\n",
    "\n",
    "# plt.tight_layout()\n",
    "# plt.show()\n",
    "\n",
    "# # Plotting\n",
    "# categories = ['Category 1', 'Category 2', 'Category 3', 'Category 4', 'Category 5']\n",
    "\n",
    "# x = np.arange(len(categories))  # X positions for the groups\n",
    "\n",
    "# fig, ax = plt.subplots()\n",
    "# width = 0.35  # Width of the bars\n",
    "\n",
    "# # Group 1\n",
    "# rects1 = ax.bar(x - width/2, means_group1, width, yerr=sems_group1, label='Our model', capsize=5, color='blue', alpha=0.7)\n",
    "# # Overlay individual points for Group 1\n",
    "# for idx, xpos in enumerate(x - width/2):\n",
    "#     ax.scatter([xpos] * selected_elements_group1.shape[1], selected_elements_group1[idx, :], color='darkblue', alpha=0.6)\n",
    "\n",
    "# # Group 2\n",
    "# rects2 = ax.bar(x + width/2, means_group2, width, yerr=sems_group2, label='Benchmark', capsize=5, color='green', alpha=0.7)\n",
    "# # Overlay individual points for Group 2\n",
    "# for idx, xpos in enumerate(x + width/2):\n",
    "#     ax.scatter([xpos] * selected_elements_group2.shape[1], selected_elements_group2[idx, :], color='darkgreen', alpha=0.6)\n",
    "\n",
    "\n",
    "# Adjust the x-tick label size if necessary for space\n",
    "plt.setp(ax.get_xticklabels(), rotation=45, ha='right', fontsize=tick_label_size)\n",
    "\n",
    "# ax.set_ylabel('Graph edit distance', fontsize=ylabel_size)\n",
    "ax.set_xticks(x)\n",
    "ax.set_xticklabels(categories)\n",
    "# Set the font size for tick labels\n",
    "ax.tick_params(axis='both', which='major', labelsize=tick_label_size)\n",
    "ax.set_title('Graph edit distance', fontsize=title_size)\n",
    "ax.yaxis.grid(True)\n",
    "ax.legend()\n",
    "\n",
    "plt.tight_layout()\n",
    "\n",
    "plt.savefig('ged_spatial.png')\n",
    "plt.show()\n"
   ]
  },
  {
   "cell_type": "code",
   "execution_count": 108,
   "metadata": {},
   "outputs": [
    {
     "data": {
      "image/png": "[encoded data removed]",
      "text/plain": [
       "<Figure size 500x500 with 1 Axes>"
      ]
     },
     "metadata": {},
     "output_type": "display_data"
    }
   ],
   "source": [
    "import numpy as np\n",
    "import matplotlib.pyplot as plt\n",
    "\n",
    "# # Assuming you have two sets of matrix data, each of size (10, 100)\n",
    "# np.random.seed(0)  # For reproducibility\n",
    "# matrix_group1 = np.random.rand(10, 100)\n",
    "# matrix_group2 = np.random.rand(10, 100)\n",
    "\n",
    "# # Select elements at positions 2, 4, 6, 8, 10 from each row (indices 1, 3, 5, 7, 9)\n",
    "# selected_elements_group1 = matrix_group1[:, [1, 3, 5, 7, 9]]\n",
    "# selected_elements_group2 = matrix_group2[:, [1, 3, 5, 7, 9]]\n",
    "# selected_elements_group1 = np.transpose(nodes_spatial[:,[1,3,5,7,9]])\n",
    "# selected_elements_group2 = np.transpose(nodes_spatial_benchmark)\n",
    "\n",
    "selected_elements_group1 = ged_spatial[[1,3,5,7,9],:]\n",
    "selected_elements_group2 = ged_spatial_benchmark\n",
    "\n",
    "\n",
    "# Calculate means and standard errors of the means (SEM) for each category in both groups\n",
    "means_group1 = np.mean(selected_elements_group1, axis=1)\n",
    "sems_group1 = np.std(selected_elements_group1, axis=1) / np.sqrt(selected_elements_group1.shape[1])\n",
    "\n",
    "means_group2 = np.mean(selected_elements_group2, axis=1)\n",
    "sems_group2 = np.std(selected_elements_group2, axis=1) / np.sqrt(selected_elements_group2.shape[1])\n",
    "\n",
    "\n",
    "# Selecting one specific bar from the second group as a reference (e.g., the mean of the first category)\n",
    "ref_mean = np.mean(selected_elements_group2[1, :])  # Assume we select the first category as the reference\n",
    "ref_sem = np.std(selected_elements_group2[1, :]) / np.sqrt(selected_elements_group2.shape[1])\n",
    "\n",
    "# Plotting setup\n",
    "# categories = ['Reference', 'Category 1', 'Category 2', 'Category 3', 'Category 4', 'Category 5']\n",
    "categories = ['Benchmark',\n",
    "                'alpha=0.1', \n",
    "              'alpha=0.3', \n",
    "              'alpha=0.5', \n",
    "              'alpha=0.7', \n",
    "              'alpha=0.9']\n",
    "x = np.arange(len(categories))  # X positions for all bars including the reference\n",
    "\n",
    "fig, ax = plt.subplots(figsize=(5,5))\n",
    "width = 0.35  # Width of the bars\n",
    "\n",
    "# # Plotting the reference bar separately\n",
    "# ax.bar(x[0], ref_mean, width, yerr=ref_sem, label='Benchmark', capsize=5, color='gray', alpha=0.7)\n",
    "\n",
    "# Plotting the reference bar separately\n",
    "ref_bar = ax.bar(x[0], ref_mean, width, yerr=ref_sem, label='Benchmark', capsize=5, color='gray', alpha=0.7)\n",
    "# Overlay individual points for the reference bar\n",
    "ax.scatter([x[0]] * selected_elements_group2.shape[1], selected_elements_group2[1, :], color='black', alpha=0.6)\n",
    "\n",
    "\n",
    "# Plotting bars for Group 1\n",
    "rects1 = ax.bar(x[1:], means_group1, width, yerr=sems_group1, label='Proposed model', capsize=5, color='blue', alpha=0.7)\n",
    "# Overlay individual points for Group 1\n",
    "for idx, xpos in enumerate(x[1:]):\n",
    "    ax.scatter([xpos] * selected_elements_group1.shape[1], selected_elements_group1[idx, :], color='darkblue', alpha=0.6)\n",
    "\n",
    "# General settings\n",
    "# ax.set_ylabel('Values')\n",
    "# ax.set_xticks(x)\n",
    "# ax.set_xticklabels(categories)\n",
    "# ax.set_title('Comparison of Five Categories with a Reference Bar')\n",
    "# ax.yaxis.grid(True)\n",
    "# ax.legend()\n",
    "\n",
    "# gt_value = 48\n",
    "# ax.axhline(y=gt_value, color='red', linestyle='--', linewidth=2, label='Ground Truth')\n",
    "\n",
    "\n",
    "# plt.tight_layout()\n",
    "# plt.show()\n",
    "\n",
    "# # Plotting\n",
    "# categories = ['Category 1', 'Category 2', 'Category 3', 'Category 4', 'Category 5']\n",
    "\n",
    "# x = np.arange(len(categories))  # X positions for the groups\n",
    "\n",
    "# fig, ax = plt.subplots()\n",
    "# width = 0.35  # Width of the bars\n",
    "\n",
    "# # Group 1\n",
    "# rects1 = ax.bar(x - width/2, means_group1, width, yerr=sems_group1, label='Our model', capsize=5, color='blue', alpha=0.7)\n",
    "# # Overlay individual points for Group 1\n",
    "# for idx, xpos in enumerate(x - width/2):\n",
    "#     ax.scatter([xpos] * selected_elements_group1.shape[1], selected_elements_group1[idx, :], color='darkblue', alpha=0.6)\n",
    "\n",
    "# # Group 2\n",
    "# rects2 = ax.bar(x + width/2, means_group2, width, yerr=sems_group2, label='Benchmark', capsize=5, color='green', alpha=0.7)\n",
    "# # Overlay individual points for Group 2\n",
    "# for idx, xpos in enumerate(x + width/2):\n",
    "#     ax.scatter([xpos] * selected_elements_group2.shape[1], selected_elements_group2[idx, :], color='darkgreen', alpha=0.6)\n",
    "\n",
    "\n",
    "# Adjust the x-tick label size if necessary for space\n",
    "plt.setp(ax.get_xticklabels(), rotation=45, ha='right', fontsize=10)\n",
    "\n",
    "ax.set_ylabel('Graph edit distance')\n",
    "ax.set_xticks(x)\n",
    "ax.set_xticklabels(categories)\n",
    "ax.set_title('Graph edit distance')\n",
    "ax.yaxis.grid(True)\n",
    "ax.legend()\n",
    "\n",
    "plt.tight_layout()\n",
    "\n",
    "plt.savefig('ged_spatial.png')\n",
    "plt.show()\n"
   ]
  },
  {
   "cell_type": "code",
   "execution_count": 68,
   "metadata": {},
   "outputs": [
    {
     "data": {
      "text/plain": [
       "(100, 10)"
      ]
     },
     "execution_count": 68,
     "metadata": {},
     "output_type": "execute_result"
    }
   ],
   "source": [
    "states_spatial = pd.read_csv(\"spatial_results.csv\")\n",
    "states_modular = pd.read_csv(\"modular_results.csv\")\n",
    "states_lattice = pd.read_csv(\"lattice_results.csv\")\n",
    "\n",
    "np.shape(states_spatial)"
   ]
  },
  {
   "cell_type": "code",
   "execution_count": 69,
   "metadata": {},
   "outputs": [
    {
     "data": {
      "text/plain": [
       "(100, 5)"
      ]
     },
     "execution_count": 69,
     "metadata": {},
     "output_type": "execute_result"
    }
   ],
   "source": [
    "columns_to_select = [1,3,5,7,9]\n",
    "states_spatial = states_spatial.iloc[:,columns_to_select]\n",
    "np.shape(states_spatial)"
   ]
  },
  {
   "cell_type": "code",
   "execution_count": 88,
   "metadata": {},
   "outputs": [
    {
     "data": {
      "text/plain": [
       "(100, 5)"
      ]
     },
     "execution_count": 88,
     "metadata": {},
     "output_type": "execute_result"
    }
   ],
   "source": [
    "states_spatial = pd.read_csv(\"spatial_results.csv\")\n",
    "states_spatial = states_spatial.iloc[:,columns_to_select]\n",
    "np.shape(states_spatial)"
   ]
  },
  {
   "cell_type": "code",
   "execution_count": 89,
   "metadata": {},
   "outputs": [
    {
     "data": {
      "text/plain": [
       "array([1, 2, 3, 4, 5, 1, 2, 3, 4, 5, 1, 2, 3, 4, 5, 1, 2, 3, 4, 5, 1, 2,\n",
       "       3, 4, 5, 1, 2, 3, 4, 5, 1, 2, 3, 4, 5, 1, 2, 3, 4, 5, 1, 2, 3, 4,\n",
       "       5, 1, 2, 3, 4, 5])"
      ]
     },
     "execution_count": 89,
     "metadata": {},
     "output_type": "execute_result"
    }
   ],
   "source": [
    "np.tile([1,2,3,4,5],10)"
   ]
  },
  {
   "cell_type": "code",
   "execution_count": 94,
   "metadata": {},
   "outputs": [
    {
     "data": {
      "text/plain": [
       "array([0.2, 0.2, 0.2, 0.2, 0.2, 0.2, 0.2, 0.2, 0.2, 0.2, 0.2, 0.2, 0.2,\n",
       "       0.2, 0.2, 0.2, 0.2, 0.2, 0.2, 0.2, 0.2, 0.2, 0.2, 0.2, 0.2, 0.2,\n",
       "       0.2, 0.2, 0.2, 0.2, 0.2, 0.2, 0.2, 0.2, 0.2, 0.2, 0.2, 0.2, 0.2,\n",
       "       0.2, 0.2, 0.2, 0.2, 0.2, 0.2, 0.2, 0.2, 0.2, 0.2, 0.2, 0.2, 0.2,\n",
       "       0.2, 0.2, 0.2, 0.2, 0.2, 0.2, 0.2, 0.2, 0.2, 0.2, 0.2, 0.2, 0.2,\n",
       "       0.2, 0.2, 0.2, 0.2, 0.2, 0.2, 0.2, 0.2, 0.2, 0.2, 0.2, 0.2, 0.2,\n",
       "       0.2, 0.2, 0.2, 0.2, 0.2, 0.2, 0.2, 0.2, 0.2, 0.2, 0.2, 0.2, 0.2,\n",
       "       0.2, 0.2, 0.2, 0.2, 0.2, 0.2, 0.2, 0.2, 0.2, 0.4, 0.4, 0.4, 0.4,\n",
       "       0.4, 0.4, 0.4, 0.4, 0.4, 0.4, 0.4, 0.4, 0.4, 0.4, 0.4, 0.4, 0.4,\n",
       "       0.4, 0.4, 0.4, 0.4, 0.4, 0.4, 0.4, 0.4, 0.4, 0.4, 0.4, 0.4, 0.4,\n",
       "       0.4, 0.4, 0.4, 0.4, 0.4, 0.4, 0.4, 0.4, 0.4, 0.4, 0.4, 0.4, 0.4,\n",
       "       0.4, 0.4, 0.4, 0.4, 0.4, 0.4, 0.4, 0.4, 0.4, 0.4, 0.4, 0.4, 0.4,\n",
       "       0.4, 0.4, 0.4, 0.4, 0.4, 0.4, 0.4, 0.4, 0.4, 0.4, 0.4, 0.4, 0.4,\n",
       "       0.4, 0.4, 0.4, 0.4, 0.4, 0.4, 0.4, 0.4, 0.4, 0.4, 0.4, 0.4, 0.4,\n",
       "       0.4, 0.4, 0.4, 0.4, 0.4, 0.4, 0.4, 0.4, 0.4, 0.4, 0.4, 0.4, 0.4,\n",
       "       0.4, 0.4, 0.4, 0.4, 0.4, 0.6, 0.6, 0.6, 0.6, 0.6, 0.6, 0.6, 0.6,\n",
       "       0.6, 0.6, 0.6, 0.6, 0.6, 0.6, 0.6, 0.6, 0.6, 0.6, 0.6, 0.6, 0.6,\n",
       "       0.6, 0.6, 0.6, 0.6, 0.6, 0.6, 0.6, 0.6, 0.6, 0.6, 0.6, 0.6, 0.6,\n",
       "       0.6, 0.6, 0.6, 0.6, 0.6, 0.6, 0.6, 0.6, 0.6, 0.6, 0.6, 0.6, 0.6,\n",
       "       0.6, 0.6, 0.6, 0.6, 0.6, 0.6, 0.6, 0.6, 0.6, 0.6, 0.6, 0.6, 0.6,\n",
       "       0.6, 0.6, 0.6, 0.6, 0.6, 0.6, 0.6, 0.6, 0.6, 0.6, 0.6, 0.6, 0.6,\n",
       "       0.6, 0.6, 0.6, 0.6, 0.6, 0.6, 0.6, 0.6, 0.6, 0.6, 0.6, 0.6, 0.6,\n",
       "       0.6, 0.6, 0.6, 0.6, 0.6, 0.6, 0.6, 0.6, 0.6, 0.6, 0.6, 0.6, 0.6,\n",
       "       0.6, 0.8, 0.8, 0.8, 0.8, 0.8, 0.8, 0.8, 0.8, 0.8, 0.8, 0.8, 0.8,\n",
       "       0.8, 0.8, 0.8, 0.8, 0.8, 0.8, 0.8, 0.8, 0.8, 0.8, 0.8, 0.8, 0.8,\n",
       "       0.8, 0.8, 0.8, 0.8, 0.8, 0.8, 0.8, 0.8, 0.8, 0.8, 0.8, 0.8, 0.8,\n",
       "       0.8, 0.8, 0.8, 0.8, 0.8, 0.8, 0.8, 0.8, 0.8, 0.8, 0.8, 0.8, 0.8,\n",
       "       0.8, 0.8, 0.8, 0.8, 0.8, 0.8, 0.8, 0.8, 0.8, 0.8, 0.8, 0.8, 0.8,\n",
       "       0.8, 0.8, 0.8, 0.8, 0.8, 0.8, 0.8, 0.8, 0.8, 0.8, 0.8, 0.8, 0.8,\n",
       "       0.8, 0.8, 0.8, 0.8, 0.8, 0.8, 0.8, 0.8, 0.8, 0.8, 0.8, 0.8, 0.8,\n",
       "       0.8, 0.8, 0.8, 0.8, 0.8, 0.8, 0.8, 0.8, 0.8, 0.8, 1. , 1. , 1. ,\n",
       "       1. , 1. , 1. , 1. , 1. , 1. , 1. , 1. , 1. , 1. , 1. , 1. , 1. ,\n",
       "       1. , 1. , 1. , 1. , 1. , 1. , 1. , 1. , 1. , 1. , 1. , 1. , 1. ,\n",
       "       1. , 1. , 1. , 1. , 1. , 1. , 1. , 1. , 1. , 1. , 1. , 1. , 1. ,\n",
       "       1. , 1. , 1. , 1. , 1. , 1. , 1. , 1. , 1. , 1. , 1. , 1. , 1. ,\n",
       "       1. , 1. , 1. , 1. , 1. , 1. , 1. , 1. , 1. , 1. , 1. , 1. , 1. ,\n",
       "       1. , 1. , 1. , 1. , 1. , 1. , 1. , 1. , 1. , 1. , 1. , 1. , 1. ,\n",
       "       1. , 1. , 1. , 1. , 1. , 1. , 1. , 1. , 1. , 1. , 1. , 1. , 1. ,\n",
       "       1. , 1. , 1. , 1. , 1. , 1. ])"
      ]
     },
     "execution_count": 94,
     "metadata": {},
     "output_type": "execute_result"
    }
   ],
   "source": [
    "a =np.repeat([0.2, 0.4, 0.6, 0.8, 1.0], 100)\n",
    "a"
   ]
  },
  {
   "cell_type": "code",
   "execution_count": null,
   "metadata": {},
   "outputs": [],
   "source": [
    "np.repeat(a,3)"
   ]
  },
  {
   "cell_type": "code",
   "execution_count": 95,
   "metadata": {},
   "outputs": [],
   "source": [
    "def vertical_concatenate(df):\n",
    "    return pd.concat([df[row] for col in df], ignore_index=True)"
   ]
  },
  {
   "cell_type": "code",
   "execution_count": 98,
   "metadata": {},
   "outputs": [],
   "source": [
    "aa = np.array([[1,2,3,4,5], [2,4,5,6,7]])\n",
    "b = pd.DataFrame(aa)\n",
    "c = vertical_concatenate(b)"
   ]
  },
  {
   "cell_type": "code",
   "execution_count": 100,
   "metadata": {},
   "outputs": [],
   "source": [
    "concatenated_rows = b.stack().reset_index(drop=True)\n"
   ]
  },
  {
   "cell_type": "code",
   "execution_count": 101,
   "metadata": {},
   "outputs": [
    {
     "data": {
      "text/plain": [
       "0    1\n",
       "1    2\n",
       "2    3\n",
       "3    4\n",
       "4    5\n",
       "5    2\n",
       "6    4\n",
       "7    5\n",
       "8    6\n",
       "9    7\n",
       "dtype: int64"
      ]
     },
     "execution_count": 101,
     "metadata": {},
     "output_type": "execute_result"
    }
   ],
   "source": [
    "concatenated_rows"
   ]
  },
  {
   "cell_type": "code",
   "execution_count": 99,
   "metadata": {},
   "outputs": [
    {
     "data": {
      "text/plain": [
       "0    1\n",
       "1    2\n",
       "2    2\n",
       "3    4\n",
       "4    3\n",
       "5    5\n",
       "6    4\n",
       "7    6\n",
       "8    5\n",
       "9    7\n",
       "dtype: int64"
      ]
     },
     "execution_count": 99,
     "metadata": {},
     "output_type": "execute_result"
    }
   ],
   "source": [
    "c"
   ]
  },
  {
   "cell_type": "code",
   "execution_count": 103,
   "metadata": {},
   "outputs": [
    {
     "name": "stderr",
     "output_type": "stream",
     "text": [
      "/var/folders/0y/6z5lvyy15plflq56kf5szmhr0000gp/T/ipykernel_69815/1956627909.py:55: FutureWarning: Setting an item of incompatible dtype is deprecated and will raise an error in a future version of pandas. Value '[-68.75       -54.16666667 -18.75         0.          14.58333333\n",
      " -75.         -58.33333333 -39.58333333 -14.58333333   0.\n",
      " -75.         -58.33333333 -45.83333333 -27.08333333   0.\n",
      " -64.58333333 -37.5         -8.33333333  12.5         20.83333333\n",
      " -72.91666667 -35.41666667 -29.16666667 -10.41666667  10.41666667\n",
      " -52.08333333 -35.41666667 -29.16666667   8.33333333  45.83333333\n",
      " -72.91666667 -39.58333333 -25.         -12.5         29.16666667\n",
      " -68.75       -47.91666667 -22.91666667   4.16666667  18.75\n",
      " -77.08333333 -64.58333333 -41.66666667 -33.33333333  -4.16666667\n",
      " -66.66666667 -39.58333333 -14.58333333  10.41666667  39.58333333\n",
      " -66.66666667 -45.83333333  -8.33333333  -4.16666667   4.16666667\n",
      " -68.75       -52.08333333 -31.25        -4.16666667  20.83333333\n",
      " -54.16666667 -43.75       -31.25        16.66666667  22.91666667\n",
      " -60.41666667 -41.66666667 -25.         -12.5          4.16666667\n",
      " -62.5        -41.66666667 -31.25        -8.33333333  10.41666667\n",
      " -77.08333333 -54.16666667 -35.41666667   2.08333333  27.08333333\n",
      " -64.58333333 -43.75       -29.16666667  -4.16666667  16.66666667\n",
      " -68.75       -47.91666667 -33.33333333 -22.91666667  12.5\n",
      " -70.83333333 -41.66666667 -33.33333333   6.25        16.66666667\n",
      " -81.25       -43.75       -31.25       -31.25       -12.5\n",
      " -70.83333333 -47.91666667 -27.08333333 -16.66666667  -6.25\n",
      " -66.66666667 -39.58333333 -25.          -2.08333333  10.41666667\n",
      " -70.83333333 -58.33333333 -22.91666667 -18.75        -2.08333333\n",
      " -56.25       -43.75       -29.16666667  -8.33333333  31.25\n",
      " -68.75       -35.41666667 -18.75       -10.41666667  29.16666667\n",
      " -64.58333333 -16.66666667  -6.25         0.          10.41666667\n",
      " -68.75       -50.         -25.           0.           6.25\n",
      " -62.5        -33.33333333 -27.08333333  -4.16666667  25.\n",
      " -75.         -25.         -16.66666667  18.75        29.16666667\n",
      " -68.75       -39.58333333 -16.66666667  -8.33333333  31.25\n",
      " -77.08333333 -43.75       -16.66666667  -6.25        12.5\n",
      " -77.08333333 -54.16666667 -29.16666667   4.16666667  47.91666667\n",
      " -64.58333333 -54.16666667 -35.41666667 -16.66666667   4.16666667\n",
      " -75.         -58.33333333  -4.16666667  22.91666667  37.5\n",
      " -54.16666667 -45.83333333   0.          22.91666667  29.16666667\n",
      " -56.25       -52.08333333 -35.41666667 -14.58333333  -4.16666667\n",
      " -58.33333333 -43.75       -31.25        -8.33333333   0.\n",
      " -66.66666667 -39.58333333 -27.08333333 -10.41666667  10.41666667\n",
      " -68.75       -39.58333333 -18.75        -4.16666667  -4.16666667\n",
      " -75.         -56.25       -35.41666667 -10.41666667  -2.08333333\n",
      " -72.91666667 -58.33333333 -43.75       -14.58333333  -4.16666667\n",
      " -75.         -54.16666667 -43.75       -29.16666667  -2.08333333\n",
      " -81.25       -56.25       -29.16666667 -14.58333333  -8.33333333\n",
      " -70.83333333 -39.58333333 -31.25       -27.08333333  20.83333333\n",
      " -68.75       -60.41666667  -8.33333333   2.08333333  18.75\n",
      " -66.66666667 -45.83333333 -20.83333333 -12.5          6.25\n",
      " -75.         -54.16666667 -37.5          6.25        18.75\n",
      " -70.83333333 -68.75       -41.66666667 -20.83333333 -10.41666667\n",
      " -62.5        -54.16666667 -27.08333333 -14.58333333  -6.25\n",
      " -62.5        -47.91666667 -27.08333333 -18.75        25.\n",
      " -75.         -50.         -37.5         -8.33333333  -4.16666667\n",
      " -77.08333333 -64.58333333 -37.5         10.41666667  37.5\n",
      " -58.33333333 -29.16666667   0.          14.58333333  16.66666667\n",
      " -64.58333333 -41.66666667 -25.           6.25        35.41666667\n",
      " -66.66666667 -41.66666667 -14.58333333   2.08333333  43.75\n",
      " -62.5        -47.91666667 -27.08333333  18.75        25.\n",
      " -60.41666667 -43.75       -22.91666667 -14.58333333  20.83333333\n",
      " -66.66666667 -45.83333333 -12.5         -6.25        14.58333333\n",
      " -79.16666667 -39.58333333 -20.83333333  31.25        43.75\n",
      " -62.5        -45.83333333  -4.16666667  12.5         37.5\n",
      " -64.58333333 -45.83333333 -27.08333333 -10.41666667   8.33333333\n",
      " -64.58333333 -47.91666667 -18.75       -18.75        43.75\n",
      " -70.83333333 -35.41666667 -27.08333333 -20.83333333  18.75\n",
      " -77.08333333 -58.33333333 -16.66666667  -4.16666667  -4.16666667\n",
      " -47.91666667 -29.16666667  -6.25        14.58333333  33.33333333\n",
      " -66.66666667 -47.91666667 -29.16666667  -4.16666667  20.83333333\n",
      " -81.25       -64.58333333 -45.83333333 -14.58333333   2.08333333\n",
      " -62.5        -50.         -20.83333333  -4.16666667   8.33333333\n",
      " -68.75       -43.75       -33.33333333   2.08333333  22.91666667\n",
      " -68.75       -60.41666667 -33.33333333 -25.          -2.08333333\n",
      " -62.5        -45.83333333  -8.33333333   4.16666667  25.\n",
      " -66.66666667 -50.         -27.08333333  -4.16666667  22.91666667\n",
      " -75.         -56.25       -14.58333333  10.41666667  25.\n",
      " -64.58333333 -52.08333333 -22.91666667   4.16666667  22.91666667\n",
      " -75.         -56.25       -39.58333333 -18.75        20.83333333\n",
      " -60.41666667 -37.5        -10.41666667  14.58333333  33.33333333\n",
      " -77.08333333 -43.75       -22.91666667  -6.25        -2.08333333\n",
      " -66.66666667 -33.33333333  -8.33333333  12.5         27.08333333\n",
      " -60.41666667 -33.33333333 -29.16666667 -20.83333333 -12.5\n",
      " -64.58333333 -41.66666667  -4.16666667   4.16666667  18.75\n",
      " -66.66666667 -50.         -27.08333333 -14.58333333   4.16666667\n",
      " -77.08333333 -70.83333333 -27.08333333 -14.58333333  -2.08333333\n",
      " -68.75       -50.         -37.5        -33.33333333   4.16666667\n",
      " -70.83333333 -29.16666667  -2.08333333  10.41666667  20.83333333\n",
      " -66.66666667 -54.16666667 -41.66666667 -27.08333333  20.83333333\n",
      " -62.5        -39.58333333  -6.25         0.          25.\n",
      " -58.33333333 -43.75       -31.25        -4.16666667  16.66666667\n",
      " -77.08333333 -39.58333333 -27.08333333  -6.25         4.16666667\n",
      " -56.25       -29.16666667 -16.66666667   8.33333333  29.16666667\n",
      " -62.5        -39.58333333 -14.58333333  -8.33333333   8.33333333\n",
      " -66.66666667 -31.25       -20.83333333 -10.41666667  18.75\n",
      " -70.83333333 -37.5        -16.66666667 -10.41666667   4.16666667\n",
      " -68.75       -45.83333333 -22.91666667  -6.25        18.75\n",
      " -66.66666667 -50.         -25.          -8.33333333  35.41666667\n",
      " -75.         -50.         -39.58333333 -22.91666667  12.5\n",
      " -70.83333333 -25.           2.08333333  25.          58.33333333\n",
      " -66.66666667 -47.91666667 -29.16666667 -22.91666667  -2.08333333\n",
      " -81.25       -60.41666667 -39.58333333 -14.58333333  14.58333333\n",
      " -64.58333333 -33.33333333 -20.83333333 -16.66666667  -6.25\n",
      " -60.41666667 -47.91666667 -29.16666667   4.16666667  16.66666667]' has dtype incompatible with int64, please explicitly cast to a compatible dtype first.\n",
      "  df.loc[df['graph_type'] == 'spatial', 'states'] = ((df['states'] - 48) * 100) / 48\n"
     ]
    },
    {
     "data": {
      "text/plain": [
       "<Figure size 640x480 with 0 Axes>"
      ]
     },
     "metadata": {},
     "output_type": "display_data"
    },
    {
     "data": {
      "text/plain": [
       "<Figure size 600x400 with 0 Axes>"
      ]
     },
     "metadata": {},
     "output_type": "display_data"
    },
    {
     "data": {
      "image/png": "[encoded data removed]",
      "text/plain": [
       "<Figure size 1090.25x700 with 1 Axes>"
      ]
     },
     "metadata": {},
     "output_type": "display_data"
    }
   ],
   "source": [
    "import pandas as pd\n",
    "import numpy as np\n",
    "import seaborn as sns\n",
    "import matplotlib.pyplot as plt\n",
    "\n",
    "columns_to_select = [1,3,5,7,9]\n",
    "\n",
    "# Load the CSV files as pandas DataFrames\n",
    "states_spatial = pd.read_csv(\"spatial_results.csv\")\n",
    "states_modular = pd.read_csv(\"modular_results.csv\")\n",
    "states_lattice = pd.read_csv(\"lattice_results.csv\")\n",
    "\n",
    "states_spatial = states_spatial.iloc[:,columns_to_select]\n",
    "states_modular = states_modular.iloc[:,columns_to_select]\n",
    "states_lattice = states_lattice.iloc[:,columns_to_select]\n",
    "\n",
    "# states_spatial = states_spatial.T\n",
    "# states_modular = states_modular.T\n",
    "# staets_lattice = states_lattice.T\n",
    "\n",
    "# Function to vertically concatenate DataFrame columns into a single Series\n",
    "# def vertical_concatenate(df):\n",
    "#     return pd.concat([df[col] for col in df], ignore_index=True)\n",
    "\n",
    "# # Applying the function to each DataFrame\n",
    "# states_spatial = vertical_concatenate(states_spatial)\n",
    "# states_modular = vertical_concatenate(states_modular)\n",
    "# states_lattice = vertical_concatenate(states_lattice)\n",
    "\n",
    "states_spatial = states_spatial.stack().reset_index(drop=True)\n",
    "states_modular = states_modular.stack().reset_index(drop=True)\n",
    "states_lattice = states_lattice.stack().reset_index(drop=True)\n",
    "\n",
    "# Combine all states into a single Series\n",
    "states = pd.concat([states_spatial, states_modular, states_lattice], ignore_index=True)\n",
    "\n",
    "# Create alpha Series\n",
    "# alpha = np.tile(np.linspace(0.1, 1.0, num=10), 100)\n",
    "alpha = [0.2, 0.4, 0.6, 0.8, 1.0]\n",
    "alpha = np.tile(alpha, 100)\n",
    "# alpha = np.repeat([0.2, 0.4, 0.6, 0.8, 1.0], 100)\n",
    "alpha = np.repeat(alpha, 3)  # Repeat each alpha value 3 times\n",
    "\n",
    "# Create graph_type Series\n",
    "graph_type = np.repeat(['spatial', 'modular', 'lattice'], 500)\n",
    "\n",
    "# Create DataFrame\n",
    "df = pd.DataFrame({\n",
    "    'states': states,\n",
    "    'alpha': alpha,\n",
    "    'graph_type': graph_type\n",
    "})\n",
    "\n",
    "# Adjust states values based on graph_type\n",
    "df.loc[df['graph_type'] == 'spatial', 'states'] = ((df['states'] - 48) * 100) / 48\n",
    "df.loc[df['graph_type'] == 'modular', 'states'] = ((df['states'] - 30) * 100) / 30\n",
    "df.loc[df['graph_type'] == 'lattice', 'states'] = ((df['states'] - 30) * 100) / 30\n",
    "\n",
    "# Set context to \"talk\" for more compact plotting, \"paper\" for even smaller elements\n",
    "sns.set_context(\"talk\", font_scale=0.8)  # Scales down font sizes\n",
    "plt.tight_layout(rect=[0, 0.03, 1, 0.95])  # Adjust the rect to fit the layout\n",
    "# Plotting\n",
    "plt.figure(figsize=(6,4))\n",
    "sns.set_theme(style=\"whitegrid\")\n",
    "ax = sns.lmplot(x='alpha', y='states', hue='graph_type', data=df, height=7, aspect=1.4, markers='o', scatter_kws={\"s\": 10}, line_kws={\"lw\": 2})\n",
    "ax.set_axis_labels(\"Alpha\", \"State error (% difference)\")\n",
    "# plt.title(\"State Error by Graph Type with Linear Regression\")\n",
    "plt.show()\n"
   ]
  },
  {
   "cell_type": "code",
   "execution_count": 82,
   "metadata": {},
   "outputs": [
    {
     "data": {
      "text/plain": [
       "array([0.2, 0.2, 0.2, ..., 1. , 1. , 1. ])"
      ]
     },
     "execution_count": 82,
     "metadata": {},
     "output_type": "execute_result"
    }
   ],
   "source": [
    "alpha"
   ]
  },
  {
   "cell_type": "code",
   "execution_count": 83,
   "metadata": {},
   "outputs": [
    {
     "data": {
      "text/plain": [
       "array(['spatial', 'spatial', 'spatial', ..., 'lattice', 'lattice',\n",
       "       'lattice'], dtype='<U7')"
      ]
     },
     "execution_count": 83,
     "metadata": {},
     "output_type": "execute_result"
    }
   ],
   "source": [
    "graph_type"
   ]
  },
  {
   "cell_type": "code",
   "execution_count": 78,
   "metadata": {},
   "outputs": [
    {
     "data": {
      "text/plain": [
       "4500"
      ]
     },
     "execution_count": 78,
     "metadata": {},
     "output_type": "execute_result"
    }
   ],
   "source": [
    "len(graph_type)"
   ]
  }
 ],
 "metadata": {
  "kernelspec": {
   "display_name": "cscg",
   "language": "python",
   "name": "cscg"
  },
  "language_info": {
   "codemirror_mode": {
    "name": "ipython",
    "version": 3
   },
   "file_extension": ".py",
   "mimetype": "text/x-python",
   "name": "python",
   "nbconvert_exporter": "python",
   "pygments_lexer": "ipython3",
   "version": "3.11.5"
  },
  "vscode": {
   "interpreter": {
    "hash": "c4c7db56e4aa600ad0a9a975c34bbf2d671fd5a4715ac0a7956790af44717dcc"
   }
  }
 },
 "nbformat": 4,
 "nbformat_minor": 2
}
