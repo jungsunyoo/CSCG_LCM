{
 "cells": [
  {
   "cell_type": "code",
   "execution_count": 3,
   "metadata": {},
   "outputs": [],
   "source": [
    "# sys.path.append('naturecomm_cscg')\n",
    "\n",
    "# !pip install cairocffi\n",
    "# !pip install python-igraph==0.9.8\n",
    "\n",
    "from cscg_actions import *\n",
    "\n",
    "\n",
    "\n",
    "\n",
    "import numpy as np\n",
    "# from chmm_actions import CHMM, forwardE, datagen_structured_obs_room\n",
    "import matplotlib.pyplot as plt\n",
    "import igraph\n",
    "from matplotlib import cm, colors\n",
    "import os\n",
    "\n",
    "custom_colors = (\n",
    "    np.array(\n",
    "        [\n",
    "            [214, 214, 214],\n",
    "            [85, 35, 157],\n",
    "            [253, 252, 144],\n",
    "            [114, 245, 144],\n",
    "            [151, 38, 20],\n",
    "            [239, 142, 192],\n",
    "            [214, 134, 48],\n",
    "            [140, 194, 250],\n",
    "            [72, 160, 162],\n",
    "        ]\n",
    "    )\n",
    "    / 256\n",
    ")\n",
    "if not os.path.exists(\"figures\"):\n",
    "    os.makedirs(\"figures\")"
   ]
  },
  {
   "cell_type": "code",
   "execution_count": 5,
   "metadata": {},
   "outputs": [],
   "source": [
    "import numpy as np\n",
    "\n",
    "def generate_custom_colors(num_unique_observations):\n",
    "    # Define a fixed set of custom colors as RGB values\n",
    "    predefined_colors = np.array([\n",
    "        [214, 214, 214],\n",
    "        [85, 35, 157],\n",
    "        [253, 252, 144],\n",
    "        [114, 245, 144],\n",
    "        [151, 38, 20],\n",
    "        [239, 142, 192],\n",
    "        [214, 134, 48],\n",
    "        [140, 194, 250],\n",
    "        [72, 160, 162],\n",
    "    ])\n",
    "\n",
    "    # If the number of unique observations is greater than the number of predefined colors,\n",
    "    # cycle through the predefined colors to ensure enough colors are available\n",
    "    if num_unique_observations > len(predefined_colors):\n",
    "        extra_colors_needed = num_unique_observations - len(predefined_colors)\n",
    "        additional_colors = np.tile(predefined_colors, (extra_colors_needed // len(predefined_colors) + 1, 1))\n",
    "        custom_colors = np.vstack((predefined_colors, additional_colors))[:num_unique_observations]\n",
    "    else:\n",
    "        custom_colors = predefined_colors[:num_unique_observations]\n",
    "\n",
    "    return custom_colors\n"
   ]
  },
  {
   "cell_type": "code",
   "execution_count": 6,
   "metadata": {},
   "outputs": [
    {
     "name": "stdout",
     "output_type": "stream",
     "text": [
      "Directed Graph Representation with igraph:\n",
      "IGRAPH D--- 48 164 --\n",
      "+ edges:\n",
      " 0 ->  1  8         12 ->  4 11 13 20   24 -> 16 25 32      36 -> 28 35 37 44\n",
      " 1 ->  0  2  9      13 ->  5 12 14 21   25 -> 17 24 26 33   37 -> 29 36 38 45\n",
      " 2 ->  1  3 10      14 ->  6 13 15 22   26 -> 18 25 27 34   38 -> 30 37 39 46\n",
      " 3 ->  2  4 11      15 ->  7 14 23      27 -> 19 26 28 35   39 -> 31 38 47\n",
      " 4 ->  3  5 12      16 ->  8 17 24      28 -> 20 27 29 36   40 -> 32 41\n",
      " 5 ->  4  6 13      17 ->  9 16 18 25   29 -> 21 28 30 37   41 -> 33 40 42\n",
      " 6 ->  5  7 14      18 -> 10 17 19 26   30 -> 22 29 31 38   42 -> 34 41 43\n",
      " 7 ->  6 15         19 -> 11 18 20 27   31 -> 23 30 39      43 -> 35 42 44\n",
      " 8 ->  0  9 16      20 -> 12 19 21 28   32 -> 24 33 40      44 -> 36 43 45\n",
      " 9 ->  1  8 10 17   21 -> 13 20 22 29   33 -> 25 32 34 41   45 -> 37 44 46\n",
      "10 ->  2  9 11 18   22 -> 14 21 23 30   34 -> 26 33 35 42   46 -> 38 45 47\n",
      "11 ->  3 10 12 19   23 -> 15 22 31      35 -> 27 34 36 43   47 -> 39 46\n"
     ]
    }
   ],
   "source": [
    "import numpy as np\n",
    "import igraph as ig\n",
    "\n",
    "def grid_to_directed_igraph(grid):\n",
    "    \"\"\"\n",
    "    Convert a 2D numpy array to a directed igraph.Graph.\n",
    "    Each cell has bidirectional connections to its horizontal and vertical neighbors.\n",
    "    \"\"\"\n",
    "    rows, cols = grid.shape\n",
    "    adjacency_matrix = np.zeros((rows * cols, rows * cols), dtype=int)\n",
    "\n",
    "    index = lambda r, c: r * cols + c\n",
    "\n",
    "    for r in range(rows):\n",
    "        for c in range(cols):\n",
    "            current_index = index(r, c)\n",
    "\n",
    "            # North\n",
    "            if r > 0:\n",
    "                north_index = index(r - 1, c)\n",
    "                adjacency_matrix[current_index, north_index] = 1\n",
    "                adjacency_matrix[north_index, current_index] = 1\n",
    "\n",
    "            # South\n",
    "            if r < rows - 1:\n",
    "                south_index = index(r + 1, c)\n",
    "                adjacency_matrix[current_index, south_index] = 1\n",
    "                adjacency_matrix[south_index, current_index] = 1\n",
    "\n",
    "            # East\n",
    "            if c < cols - 1:\n",
    "                east_index = index(r, c + 1)\n",
    "                adjacency_matrix[current_index, east_index] = 1\n",
    "                adjacency_matrix[east_index, current_index] = 1\n",
    "\n",
    "            # West\n",
    "            if c > 0:\n",
    "                west_index = index(r, c - 1)\n",
    "                adjacency_matrix[current_index, west_index] = 1\n",
    "                adjacency_matrix[west_index, current_index] = 1\n",
    "\n",
    "    # Creating an igraph from the adjacency matrix\n",
    "    graph = ig.Graph.Adjacency((adjacency_matrix > 0).tolist(), mode=ig.ADJ_DIRECTED)\n",
    "    return graph\n",
    "\n",
    "# Example room array\n",
    "room = np.array([\n",
    "    [1, 2, 3, 0, 3, 1, 1, 1],\n",
    "    [1, 1, 3, 2, 3, 2, 3, 1],\n",
    "    [1, 1, 2, 0, 1, 2, 1, 0],\n",
    "    [0, 2, 1, 1, 3, 0, 0, 2],\n",
    "    [3, 3, 1, 0, 1, 0, 3, 0],\n",
    "    [2, 1, 2, 3, 3, 3, 2, 0],\n",
    "])\n",
    "\n",
    "directed_igraph = grid_to_directed_igraph(room)\n",
    "print(\"Directed Graph Representation with igraph:\")\n",
    "print(directed_igraph)\n"
   ]
  },
  {
   "cell_type": "code",
   "execution_count": 7,
   "metadata": {},
   "outputs": [
    {
     "name": "stderr",
     "output_type": "stream",
     "text": [
      "  3%|▎         | 3/100 [00:19<10:18,  6.37s/it, train_bps=2.44]\n"
     ]
    },
    {
     "data": {
      "image/png": "[encoded data removed]",
      "text/plain": [
       "<Figure size 640x480 with 1 Axes>"
      ]
     },
     "metadata": {},
     "output_type": "display_data"
    },
    {
     "name": "stderr",
     "output_type": "stream",
     "text": [
      "  0%|          | 0/100 [00:00<?, ?it/s]"
     ]
    },
    {
     "name": "stdout",
     "output_type": "stream",
     "text": [
      "viterbi C: (4, 36, 36)\n",
      "viterbi T: (4, 36, 36)\n"
     ]
    },
    {
     "name": "stderr",
     "output_type": "stream",
     "text": [
      " 34%|███▍      | 34/100 [01:13<02:22,  2.16s/it, train_bps=1.65]\n"
     ]
    },
    {
     "ename": "NameError",
     "evalue": "name 'plot_graph' is not defined",
     "output_type": "error",
     "traceback": [
      "\u001b[0;31m---------------------------------------------------------------------------\u001b[0m",
      "\u001b[0;31mNameError\u001b[0m                                 Traceback (most recent call last)",
      "Cell \u001b[0;32mIn[7], line 33\u001b[0m\n\u001b[1;32m     25\u001b[0m \u001b[39m# graph = plot_graph(\u001b[39;00m\n\u001b[1;32m     26\u001b[0m \u001b[39m#     chmm, x, a, output_file=\"figures/rectangular_room_graph.pdf\", cmap=cmap\u001b[39;00m\n\u001b[1;32m     27\u001b[0m \u001b[39m# )\u001b[39;00m\n\u001b[1;32m     28\u001b[0m \u001b[39m# graph\u001b[39;00m\n\u001b[1;32m     29\u001b[0m \n\u001b[1;32m     30\u001b[0m \u001b[39m# cmap = colors.ListedColormap(custom_colors[arr])\u001b[39;00m\n\u001b[1;32m     32\u001b[0m temp_output_file \u001b[39m=\u001b[39m \u001b[39mf\u001b[39m\u001b[39m\"\u001b[39m\u001b[39mrectangular_room_graph_large_num_clones_\u001b[39m\u001b[39m{\u001b[39;00mnclone\u001b[39m}\u001b[39;00m\u001b[39m.png\u001b[39m\u001b[39m\"\u001b[39m  \u001b[39m# Temporary file for each clone\u001b[39;00m\n\u001b[0;32m---> 33\u001b[0m graph, v, g \u001b[39m=\u001b[39m plot_graph(chmm, x, a, output_file\u001b[39m=\u001b[39mtemp_output_file, cmap\u001b[39m=\u001b[39mcmap)\n\u001b[1;32m     34\u001b[0m \u001b[39mprint\u001b[39m(\u001b[39m'\u001b[39m\u001b[39mGround truth number of nodes: \u001b[39m\u001b[39m{}\u001b[39;00m\u001b[39m, number of nodes recovered \u001b[39m\u001b[39m{}\u001b[39;00m\u001b[39m'\u001b[39m\u001b[39m.\u001b[39mformat(\u001b[39mlen\u001b[39m(room\u001b[39m.\u001b[39mflatten()), \u001b[39mlen\u001b[39m(v)))\n\u001b[1;32m     40\u001b[0m \u001b[39m# Display the image inline\u001b[39;00m\n",
      "\u001b[0;31mNameError\u001b[0m: name 'plot_graph' is not defined"
     ]
    }
   ],
   "source": [
    "# Generate data from the room and train a CSCG. Takes about a minute\n",
    "# clones = np.arange(10, 220, 50)\n",
    "# clones=[70]\n",
    "# nclone = 70\n",
    "# import igraph\n",
    "n_emissions = room.max() + 1\n",
    "nclone=1\n",
    "a, x, rc = datagen_structured_obs_room(room, length=50000)     #Use length=50000 for bigger room\n",
    "# for nclone in clones:\n",
    "alphas = [1]\n",
    "# for alpha in np.arange(0,1,0.3):\n",
    "for alpha in alphas:\n",
    "  n_clones = np.ones(n_emissions, dtype=np.int64) * nclone\n",
    "  container = TableContainer()\n",
    "  chmm = CHMM_LCM(n_clones=n_clones, pseudocount=2e-3, x=x, a=a, container=container,alpha=alpha,seed=42)  # Initialize the model\n",
    "  progression = chmm.learn_em_T(x, a, n_iter=100,\n",
    "                                # term_early=False,\n",
    "                                )  # Training   use n_iter=1000 for better training\n",
    "  # progression = chmm.learn_em_E(x, a, n_iter=1000)  # Training   use n_iter=1000 for better training\n",
    "\n",
    "  # Consolidate learning. Takes a few seconds\n",
    "  chmm.pseudocount = 0.0\n",
    "  chmm.learn_viterbi_T(x, a, n_iter=100)\n",
    "\n",
    "  # graph = plot_graph(\n",
    "  #     chmm, x, a, output_file=\"figures/rectangular_room_graph.pdf\", cmap=cmap\n",
    "  # )\n",
    "  # graph\n",
    "\n",
    "  # cmap = colors.ListedColormap(custom_colors[arr])\n",
    "\n",
    "  temp_output_file = f\"rectangular_room_graph_large_num_clones_{nclone}.png\"  # Temporary file for each clone\n",
    "  graph, v, g = plot_graph(chmm, x, a, output_file=temp_output_file, cmap=cmap)\n",
    "  print('Ground truth number of nodes: {}, number of nodes recovered {}'.format(len(room.flatten()), len(v)))\n",
    "\n",
    "\n",
    "\n",
    "\n",
    "\n",
    "  # Display the image inline\n",
    "  display(Image(filename=temp_output_file))\n",
    "\n",
    "\n",
    "\n",
    "  n_clones = 0\n",
    "  for roomid in range(len(container.groups_of_tables)):\n",
    "    print(\"Room {} has {} tables (clones)\".format(roomid, len(container.groups_of_tables[roomid])))\n",
    "    n_clones+=len(container.groups_of_tables[roomid])\n",
    "  print(\"Total clones used: {}\".format(n_clones))\n",
    "  print(\"Clones that would have been used by the original code: {}\".format(len(container.groups_of_tables) * 70))\n"
   ]
  }
 ],
 "metadata": {
  "kernelspec": {
   "display_name": "Python 3.11.5 ('cscg')",
   "language": "python",
   "name": "python3"
  },
  "language_info": {
   "codemirror_mode": {
    "name": "ipython",
    "version": 3
   },
   "file_extension": ".py",
   "mimetype": "text/x-python",
   "name": "python",
   "nbconvert_exporter": "python",
   "pygments_lexer": "ipython3",
   "version": "3.11.5"
  },
  "orig_nbformat": 4,
  "vscode": {
   "interpreter": {
    "hash": "c4c7db56e4aa600ad0a9a975c34bbf2d671fd5a4715ac0a7956790af44717dcc"
   }
  }
 },
 "nbformat": 4,
 "nbformat_minor": 2
}
