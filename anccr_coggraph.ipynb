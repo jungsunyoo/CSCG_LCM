{
 "cells": [
  {
   "cell_type": "code",
   "execution_count": 1,
   "metadata": {},
   "outputs": [],
   "source": [
    "import numpy as np\n",
    "from collections import defaultdict\n",
    "import random\n",
    "from tqdm import trange\n",
    "import copy\n",
    "import networkx as nx\n",
    "import matplotlib.pyplot as plt\n",
    "import sys\n",
    "import igraph\n",
    "from matplotlib import cm, colors\n",
    "random.seed(42)\n",
    "import seaborn as sns\n",
    "from testing_environments import ContinuousTMaze, GridEnv,GridEnvRightDownNoCue, GridEnvRightDownNoSelf, GridEnvDivergingMultipleReward, GridEnvDivergingSingleReward\n",
    "from util import *"
   ]
  },
  {
   "cell_type": "code",
   "execution_count": 5,
   "metadata": {},
   "outputs": [],
   "source": [
    "def stationary_distribution_eig(P):\n",
    "    \"\"\"\n",
    "    Computes the stationary distribution of transition matrix P\n",
    "    by solving P^T * v = v, and normalizing v so sum(v)=1.\n",
    "\n",
    "    Parameters\n",
    "    ----------\n",
    "    P : 2D np.ndarray, shape (N, N)\n",
    "        Transition matrix of a Markov chain (rows sum to 1).\n",
    "\n",
    "    Returns\n",
    "    -------\n",
    "    z : 1D np.ndarray, shape (N,)\n",
    "        The stationary distribution (row vector) such that zP = z.\n",
    "    \"\"\"\n",
    "    # Eigen-decomposition of P^T\n",
    "    eigenvalues, eigenvectors = np.linalg.eig(P.T)\n",
    "\n",
    "    # Find index of eigenvalue 1 (within a numerical tolerance)\n",
    "    idx = np.argmin(np.abs(eigenvalues - 1.0))\n",
    "\n",
    "    # The corresponding eigenvector\n",
    "    v = np.real(eigenvectors[:, idx])  # ensure it's real\n",
    "\n",
    "    # Normalize so that it sums to 1\n",
    "    # We also make sure all entries are non-negative (small numerical errors can introduce tiny negatives)\n",
    "    v = np.where(v < 0, 0, v)  # clip negative values to 0 if needed\n",
    "    if np.sum(v) == 0:\n",
    "        raise ValueError(\"No non-negative eigenvector found corresponding to eigenvalue 1.\")\n",
    "    z = v / np.sum(v)\n",
    "\n",
    "    return z\n",
    "\n",
    "def stationary_distribution_power(P, max_iter=1000, tol=1e-12):\n",
    "    \"\"\"\n",
    "    Computes the stationary distribution of transition matrix P\n",
    "    by repeated multiplication (power iteration).\n",
    "\n",
    "    Parameters\n",
    "    ----------\n",
    "    P : 2D np.ndarray, shape (N, N)\n",
    "        Transition matrix of a Markov chain (rows sum to 1).\n",
    "    max_iter : int\n",
    "        Maximum number of iterations.\n",
    "    tol : float\n",
    "        Convergence tolerance (on L1 or L2 difference).\n",
    "\n",
    "    Returns\n",
    "    -------\n",
    "    z : 1D np.ndarray, shape (N,)\n",
    "        The stationary distribution (row vector).\n",
    "    \"\"\"\n",
    "    N = P.shape[0]\n",
    "    # Start from a uniform distribution (or random)\n",
    "    z = np.ones(N) / N  \n",
    "\n",
    "    for _ in range(max_iter):\n",
    "        z_next = z @ P  # matrix multiplication from the left\n",
    "        # Check convergence by comparing difference\n",
    "        if np.linalg.norm(z_next - z, 1) < tol:\n",
    "            break\n",
    "        z = z_next\n",
    "\n",
    "    # Normalize (just in case of tiny drift)\n",
    "    z /= np.sum(z)\n",
    "    return z\n",
    "def row_normalize(matrix):\n",
    "    \"\"\"\n",
    "    Returns a row-normalized copy of 'matrix'.\n",
    "    Each row of the result sums to 1.\n",
    "    \"\"\"\n",
    "    # Convert to float to avoid integer division issues\n",
    "    matrix = matrix.astype(float)\n",
    "    \n",
    "    # Sum over columns, keep dimension for broadcasting\n",
    "    row_sums = matrix.sum(axis=1, keepdims=True)\n",
    "\n",
    "    # Avoid division by zero by replacing zeros with 1.0\n",
    "    row_sums[row_sums == 0] = 1.0\n",
    "    \n",
    "    # Divide each row by its sum\n",
    "    normalized = matrix / row_sums\n",
    "    \n",
    "    return normalized"
   ]
  },
  {
   "cell_type": "code",
   "execution_count": 28,
   "metadata": {},
   "outputs": [],
   "source": [
    "size = 4\n",
    "env_size = (size,size)\n",
    "rewarded_terminal = env_size[0]*env_size[1]\n",
    "cue_states = [6]\n",
    "# env = GridEnvRightDownNoSelf(env_size=env_size, \n",
    "#                              rewarded_terminal = [rewarded_terminal],\n",
    "#                              cue_states=cue_states)\n",
    "env = GridEnv(env_size=env_size, \n",
    "                             rewarded_terminal = [rewarded_terminal],\n",
    "                             cue_states=cue_states)\n",
    "# env = GridEnvRightDownNoSelf(cue_states=[6])\n",
    "\n",
    "n_episodes = 1000\n",
    "max_steps_per_episode = 100\n",
    "\n",
    "dataset = generate_dataset(env, n_episodes, max_steps_per_episode)"
   ]
  },
  {
   "cell_type": "code",
   "execution_count": 29,
   "metadata": {},
   "outputs": [],
   "source": [
    "P = transition_matrix(dataset)\n",
    "\n",
    "# P = P[1:, 1:]\n",
    "\n",
    "P = row_normalize(P)\n"
   ]
  },
  {
   "cell_type": "code",
   "execution_count": 30,
   "metadata": {},
   "outputs": [
    {
     "data": {
      "text/plain": [
       "<Axes: >"
      ]
     },
     "execution_count": 30,
     "metadata": {},
     "output_type": "execute_result"
    },
    {
     "data": {
      "image/png": "[encoded data removed]",
      "text/plain": [
       "<Figure size 640x480 with 2 Axes>"
      ]
     },
     "metadata": {},
     "output_type": "display_data"
    }
   ],
   "source": [
    "sns.heatmap(P)"
   ]
  },
  {
   "cell_type": "code",
   "execution_count": 9,
   "metadata": {},
   "outputs": [
    {
     "name": "stdout",
     "output_type": "stream",
     "text": [
      "Stationary distribution (via eigenvector): [0.         0.02522334 0.03711529 0.0369068  0.03838272 0.025554\n",
      " 0.03733666 0.05075578 0.05042165 0.04941369 0.03659069 0.0368036\n",
      " 0.05169152 0.05438299 0.05286184 0.03721302 0.03822621 0.05065738\n",
      " 0.05334339 0.05012556 0.03044739 0.02465866 0.03770338 0.03851946\n",
      " 0.02916542 0.02649957]\n"
     ]
    }
   ],
   "source": [
    "# P = np.array([\n",
    "#     [0.9, 0.1, 0.0],\n",
    "#     [0.9, 0.0, 0.1],\n",
    "#     [1.0, 0.0, 0.0]\n",
    "# ])\n",
    "\n",
    "z = stationary_distribution_eig(P)\n",
    "print(\"Stationary distribution (via eigenvector):\", z)"
   ]
  },
  {
   "cell_type": "code",
   "execution_count": 32,
   "metadata": {},
   "outputs": [
    {
     "name": "stdout",
     "output_type": "stream",
     "text": [
      "Stationary distribution (via power iteration): [0.04865179 0.06990964 0.07188271 0.04509675 0.0690627  0.09619543\n",
      " 0.08661775 0.0656321  0.06823575 0.08265261 0.07699383 0.04254318\n",
      " 0.04087891 0.05981671 0.04144893 0.03438121]\n"
     ]
    }
   ],
   "source": [
    "# if __name__ == \"__main__\":\n",
    "# P = np.array([\n",
    "#     [0.9, 0.1, 0.0],\n",
    "#     [0.9, 0.0, 0.1],\n",
    "#     [1.0, 0.0, 0.0]\n",
    "# ])\n",
    "\n",
    "\n",
    "\n",
    "\n",
    "\n",
    "z = stationary_distribution_power(P[1:,1:])\n",
    "print(\"Stationary distribution (via power iteration):\", z)"
   ]
  },
  {
   "cell_type": "code",
   "execution_count": 3,
   "metadata": {},
   "outputs": [
    {
     "name": "stdout",
     "output_type": "stream",
     "text": [
      "Stationary distribution (via eigenvector): [0.9009009  0.09009009 0.00900901]\n"
     ]
    }
   ],
   "source": [
    "# P = np.array([\n",
    "#     [0.9, 0.1, 0.0],\n",
    "#     [0.9, 0.0, 0.1],\n",
    "#     [1.0, 0.0, 0.0]\n",
    "# ])\n",
    "\n",
    "# z = stationary_distribution_eig(P)\n",
    "# print(\"Stationary distribution (via eigenvector):\", z)"
   ]
  },
  {
   "cell_type": "code",
   "execution_count": 22,
   "metadata": {},
   "outputs": [
    {
     "data": {
      "text/plain": [
       "[[0.9, 1.0000000000000002, 0.0],\n",
       " [0.09000000000000001, 0.0, 1.0000000000000004],\n",
       " [0.009999999999999997, 0.0, 0.0]]"
      ]
     },
     "execution_count": 22,
     "metadata": {},
     "output_type": "execute_result"
    }
   ],
   "source": [
    "# [[P[0,0]*z[0]/z[0], P[0,1]*z[0]/z[1], P[0,2]*z[0]/z[2]], \n",
    "#  [P[1,0]*z[1]/z[0], P[1,1]*z[1]/z[1], P[1,2]*z[1]/z[2]], \n",
    "#  [P[2,0]*z[2]/z[0], P[2,1]*z[2]/z[1], P[2,2]*z[2]/z[2]]]"
   ]
  },
  {
   "cell_type": "code",
   "execution_count": 33,
   "metadata": {},
   "outputs": [],
   "source": [
    "P_r = retrospective_transition_matrix(P[1:,1:], z)\n"
   ]
  },
  {
   "cell_type": "code",
   "execution_count": 34,
   "metadata": {},
   "outputs": [
    {
     "data": {
      "text/plain": [
       "<Axes: >"
      ]
     },
     "execution_count": 34,
     "metadata": {},
     "output_type": "execute_result"
    },
    {
     "data": {
      "image/png": "[encoded data removed]",
      "text/plain": [
       "<Figure size 640x480 with 2 Axes>"
      ]
     },
     "metadata": {},
     "output_type": "display_data"
    }
   ],
   "source": [
    "sns.heatmap(P_r)"
   ]
  },
  {
   "cell_type": "code",
   "execution_count": 38,
   "metadata": {},
   "outputs": [
    {
     "name": "stdout",
     "output_type": "stream",
     "text": [
      "Retrospective transition matrix, P_r:\n",
      "[[0.         0.34980168 0.         0.         0.35036675 0.\n",
      "  0.         0.         0.         0.         0.         0.\n",
      "  0.         0.         0.         0.        ]\n",
      " [0.47977608 0.         0.32084176 0.         0.         0.24434327\n",
      "  0.         0.         0.         0.         0.         0.\n",
      "  0.         0.         0.         0.        ]\n",
      " [0.         0.32799791 0.         0.54241027 0.         0.\n",
      "  0.28275444 0.         0.         0.         0.         0.\n",
      "  0.         0.         0.         0.        ]\n",
      " [0.         0.         0.30079787 0.         0.         0.\n",
      "  0.         0.35766924 0.         0.         0.         0.\n",
      "  0.         0.         0.         0.        ]\n",
      " [0.43670549 0.         0.         0.         0.         0.246612\n",
      "  0.         0.         0.35308844 0.         0.         0.\n",
      "  0.         0.         0.         0.        ]\n",
      " [0.         0.34143427 0.         0.         0.32734334 0.\n",
      "  0.28948455 0.         0.         0.29816555 0.         0.\n",
      "  0.         0.         0.         0.        ]\n",
      " [0.         0.         0.29484194 0.         0.         0.20734347\n",
      "  0.         0.36429769 0.         0.         0.28013414 0.\n",
      "  0.         0.         0.         0.        ]\n",
      " [0.         0.         0.         0.47682359 0.         0.\n",
      "  0.24217916 0.         0.         0.         0.         0.54419745\n",
      "  0.         0.         0.         0.        ]\n",
      " [0.         0.         0.         0.         0.34152377 0.\n",
      "  0.         0.         0.         0.27846271 0.         0.\n",
      "  0.52920998 0.         0.         0.        ]\n",
      " [0.         0.         0.         0.         0.         0.21818283\n",
      "  0.         0.         0.27355876 0.         0.27541016 0.\n",
      "  0.         0.36433042 0.         0.        ]\n",
      " [0.         0.         0.         0.         0.         0.\n",
      "  0.20481571 0.         0.         0.20824062 0.         0.47503641\n",
      "  0.         0.         0.52671959 0.        ]\n",
      " [0.         0.         0.         0.         0.         0.\n",
      "  0.         0.19451464 0.         0.         0.18015112 0.\n",
      "  0.         0.         0.         0.46264366]\n",
      " [0.         0.         0.         0.         0.         0.\n",
      "  0.         0.         0.28983436 0.         0.         0.\n",
      "  0.         0.35277509 0.         0.        ]\n",
      " [0.         0.         0.         0.         0.         0.\n",
      "  0.         0.         0.         0.23436497 0.         0.\n",
      "  0.49002388 0.         0.49251427 0.        ]\n",
      " [0.         0.         0.         0.         0.         0.\n",
      "  0.         0.         0.         0.         0.18078615 0.\n",
      "  0.         0.19937606 0.         0.45383791]\n",
      " [0.         0.         0.         0.         0.         0.\n",
      "  0.         0.         0.         0.         0.         0.\n",
      "  0.         0.         0.         0.        ]] \n",
      "\n",
      "Predecessor Representation (gamma=0.9):\n",
      "[[1.64 0.77 0.38 0.28 0.77 0.46 0.31 0.23 0.4  0.32 0.22 0.21 0.29 0.23\n",
      "  0.21 0.17]\n",
      " [1.04 1.8  0.83 0.59 0.66 0.73 0.56 0.44 0.4  0.43 0.36 0.37 0.32 0.29\n",
      "  0.3  0.28]\n",
      " [0.51 0.84 1.78 1.19 0.39 0.49 0.82 0.75 0.26 0.33 0.43 0.55 0.23 0.23\n",
      "  0.31 0.35]\n",
      " [0.21 0.33 0.66 1.65 0.17 0.22 0.44 0.76 0.12 0.17 0.26 0.48 0.11 0.12\n",
      "  0.18 0.27]\n",
      " [0.98 0.65 0.38 0.31 1.79 0.73 0.42 0.29 0.87 0.58 0.35 0.29 0.61 0.45\n",
      "  0.37 0.27]\n",
      " [0.83 1.01 0.68 0.57 0.99 1.78 0.87 0.56 0.68 0.88 0.62 0.54 0.58 0.57\n",
      "  0.55 0.45]\n",
      " [0.42 0.58 0.86 0.84 0.42 0.64 1.74 0.98 0.33 0.47 0.77 0.81 0.31 0.35\n",
      "  0.52 0.55]\n",
      " [0.22 0.32 0.54 1.   0.2  0.29 0.67 1.72 0.16 0.24 0.44 1.03 0.16 0.18\n",
      "  0.29 0.55]\n",
      " [0.5  0.38 0.25 0.22 0.84 0.49 0.32 0.22 1.77 0.8  0.41 0.28 1.16 0.73\n",
      "  0.52 0.33]\n",
      " [0.4  0.42 0.33 0.3  0.57 0.64 0.46 0.33 0.82 1.72 0.75 0.48 0.81 0.96\n",
      "  0.78 0.52]\n",
      " [0.22 0.26 0.32 0.35 0.26 0.33 0.56 0.45 0.32 0.56 1.58 0.9  0.36 0.47\n",
      "  0.96 0.77]\n",
      " [0.07 0.1  0.15 0.23 0.08 0.1  0.21 0.38 0.08 0.13 0.33 1.33 0.09 0.11\n",
      "  0.21 0.64]\n",
      " [0.19 0.16 0.12 0.1  0.32 0.21 0.15 0.11 0.62 0.41 0.24 0.16 1.62 0.73\n",
      "  0.43 0.24]\n",
      " [0.2  0.19 0.15 0.15 0.3  0.28 0.22 0.16 0.51 0.64 0.41 0.26 0.99 1.69\n",
      "  0.94 0.49]\n",
      " [0.07 0.08 0.08 0.08 0.1  0.1  0.13 0.1  0.14 0.21 0.33 0.19 0.24 0.38\n",
      "  1.33 0.62]\n",
      " [0.   0.   0.   0.   0.   0.   0.   0.   0.   0.   0.   0.   0.   0.\n",
      "  0.   1.  ]]\n"
     ]
    }
   ],
   "source": [
    "# import numpy as np\n",
    "def successor_representation(P, gamma=0.9):\n",
    "    \"\"\"\n",
    "    Compute the Successor Representation (SR) for a Markov chain or MDP \n",
    "    given a prospective (forward) transition matrix P and a discount factor gamma.\n",
    "\n",
    "    SR = (I - gamma*P)^{-1}\n",
    "\n",
    "    Parameters\n",
    "    ----------\n",
    "    P : np.ndarray of shape (n, n)\n",
    "        The forward (prospective) transition matrix, where P[i,j] \n",
    "        is the probability of transitioning from state i to state j.\n",
    "        Typically, rows sum to 1.\n",
    "    gamma : float\n",
    "        The discount factor in [0, 1). Commonly 0.9 or similar.\n",
    "\n",
    "    Returns\n",
    "    -------\n",
    "    SR : np.ndarray of shape (n, n)\n",
    "        The successor representation matrix.\n",
    "        SR[i, j] can be interpreted as the expected discounted time \n",
    "        spent in state j if you start in state i.\n",
    "    \"\"\"\n",
    "    n = P.shape[0]\n",
    "    I = np.eye(n)\n",
    "    # Compute (I - gamma * P)^{-1} if it's invertible\n",
    "    SR = np.linalg.inv(I - gamma * P)\n",
    "    return SR\n",
    "\n",
    "def predecessor_representation(P_r, gamma=0.9):\n",
    "    \"\"\"\n",
    "    Compute the predecessor representation for a time-reversed (retrospective)\n",
    "    transition matrix P_r and discount factor gamma.\n",
    "\n",
    "    PR = (I - gamma*P_r)^{-1}\n",
    "\n",
    "    Parameters\n",
    "    ----------\n",
    "    P_r : 2D np.ndarray, shape (n, n)\n",
    "        The time-reversed transition matrix.\n",
    "    gamma : float\n",
    "        Discount factor.\n",
    "\n",
    "    Returns\n",
    "    -------\n",
    "    PR : 2D np.ndarray, shape (n, n)\n",
    "        The predecessor representation matrix.\n",
    "    \"\"\"\n",
    "    n = P_r.shape[0]\n",
    "    I = np.eye(n)\n",
    "    # Compute (I - gamma * P_r)^{-1}\n",
    "    PR = np.linalg.inv(I - gamma * P_r)\n",
    "    return PR\n",
    "\n",
    "# -----------------------------------------------------------\n",
    "# Example usage\n",
    "# -----------------------------------------------------------\n",
    "# if __name__ == \"__main__\":\n",
    "    # Suppose we have the retrospective transition matrix (approx from your example)\n",
    "    # This is the \"time-reversed\" version of the original P_s, with z ~ [0.9009, 0.0901, 0.009].\n",
    "    # NOTE: The exact numbers may vary slightly based on rounding.\n",
    "# P_r = np.array([\n",
    "#     [0.9,   1.0,  0.0],\n",
    "#     [0.09,  0.0,  1.0],\n",
    "#     [0.01,  0.0,  1.0]\n",
    "# ])\n",
    "\n",
    "gamma = 0.9\n",
    "PR = predecessor_representation(P_r, gamma)\n",
    "\n",
    "print(\"Retrospective transition matrix, P_r:\")\n",
    "print(P_r, \"\\n\")\n",
    "\n",
    "print(f\"Predecessor Representation (gamma={gamma}):\")\n",
    "# Rounded for readability\n",
    "print(PR.round(2))\n"
   ]
  },
  {
   "cell_type": "code",
   "execution_count": 35,
   "metadata": {},
   "outputs": [],
   "source": [
    "SR = successor_representation(P, gamma)"
   ]
  },
  {
   "cell_type": "code",
   "execution_count": 39,
   "metadata": {},
   "outputs": [
    {
     "data": {
      "text/plain": [
       "<Axes: >"
      ]
     },
     "execution_count": 39,
     "metadata": {},
     "output_type": "execute_result"
    },
    {
     "data": {
      "image/png": "[encoded data removed]",
      "text/plain": [
       "<Figure size 640x480 with 2 Axes>"
      ]
     },
     "metadata": {},
     "output_type": "display_data"
    }
   ],
   "source": [
    "sns.heatmap(PR)"
   ]
  },
  {
   "cell_type": "code",
   "execution_count": 40,
   "metadata": {},
   "outputs": [
    {
     "data": {
      "text/plain": [
       "<Axes: >"
      ]
     },
     "execution_count": 40,
     "metadata": {},
     "output_type": "execute_result"
    },
    {
     "data": {
      "image/png": "[encoded data removed]",
      "text/plain": [
       "<Figure size 640x480 with 2 Axes>"
      ]
     },
     "metadata": {},
     "output_type": "display_data"
    }
   ],
   "source": [
    "sns.heatmap(SR[1:,1:])"
   ]
  },
  {
   "cell_type": "code",
   "execution_count": 22,
   "metadata": {},
   "outputs": [],
   "source": [
    "# import numpy as np\n",
    "\n",
    "def predecessor_representation_contingency(Mp):\n",
    "    \"\"\"\n",
    "    Compute the 'contingency' version of the Predecessor Representation (PR).\n",
    "\n",
    "    Mp : np.ndarray of shape (n, n)\n",
    "        The Predecessor Representation matrix.\n",
    "    \n",
    "    Returns\n",
    "    -------\n",
    "    Mp_cont : np.ndarray of shape (n, n)\n",
    "        The PR contingency matrix, Mp - (Mp*E)/m.\n",
    "    \"\"\"\n",
    "    n = Mp.shape[0]\n",
    "    E = np.ones((n, n))\n",
    "    # Mp * E is shape (n, n), each row i is the sum of row i repeated across columns.\n",
    "    # Divide by n to get the row average, then subtract from Mp.\n",
    "    Mp_cont = Mp - (Mp @ E) / n\n",
    "    return Mp_cont\n",
    "\n",
    "def successor_representation_contingency(Ms):\n",
    "    \"\"\"\n",
    "    Compute the 'contingency' version of the Successor Representation (SR).\n",
    "\n",
    "    Ms : np.ndarray of shape (n, n)\n",
    "        The Successor Representation matrix.\n",
    "\n",
    "    Returns\n",
    "    -------\n",
    "    Ms_cont : np.ndarray of shape (n, n)\n",
    "        The SR contingency matrix, Ms - (Ms*E)/m.\n",
    "    \"\"\"\n",
    "    n = Ms.shape[0]\n",
    "    E = np.ones((n, n))\n",
    "    Ms_cont = Ms - (Ms @ E) / n\n",
    "    return Ms_cont\n",
    "\n",
    "\n"
   ]
  },
  {
   "cell_type": "code",
   "execution_count": 41,
   "metadata": {},
   "outputs": [
    {
     "name": "stdout",
     "output_type": "stream",
     "text": [
      "Predecessor Representation (Mp):\n",
      "[[1.64 0.77 0.38 0.28 0.77 0.46 0.31 0.23 0.4  0.32 0.22 0.21 0.29 0.23\n",
      "  0.21 0.17]\n",
      " [1.04 1.8  0.83 0.59 0.66 0.73 0.56 0.44 0.4  0.43 0.36 0.37 0.32 0.29\n",
      "  0.3  0.28]\n",
      " [0.51 0.84 1.78 1.19 0.39 0.49 0.82 0.75 0.26 0.33 0.43 0.55 0.23 0.23\n",
      "  0.31 0.35]\n",
      " [0.21 0.33 0.66 1.65 0.17 0.22 0.44 0.76 0.12 0.17 0.26 0.48 0.11 0.12\n",
      "  0.18 0.27]\n",
      " [0.98 0.65 0.38 0.31 1.79 0.73 0.42 0.29 0.87 0.58 0.35 0.29 0.61 0.45\n",
      "  0.37 0.27]\n",
      " [0.83 1.01 0.68 0.57 0.99 1.78 0.87 0.56 0.68 0.88 0.62 0.54 0.58 0.57\n",
      "  0.55 0.45]\n",
      " [0.42 0.58 0.86 0.84 0.42 0.64 1.74 0.98 0.33 0.47 0.77 0.81 0.31 0.35\n",
      "  0.52 0.55]\n",
      " [0.22 0.32 0.54 1.   0.2  0.29 0.67 1.72 0.16 0.24 0.44 1.03 0.16 0.18\n",
      "  0.29 0.55]\n",
      " [0.5  0.38 0.25 0.22 0.84 0.49 0.32 0.22 1.77 0.8  0.41 0.28 1.16 0.73\n",
      "  0.52 0.33]\n",
      " [0.4  0.42 0.33 0.3  0.57 0.64 0.46 0.33 0.82 1.72 0.75 0.48 0.81 0.96\n",
      "  0.78 0.52]\n",
      " [0.22 0.26 0.32 0.35 0.26 0.33 0.56 0.45 0.32 0.56 1.58 0.9  0.36 0.47\n",
      "  0.96 0.77]\n",
      " [0.07 0.1  0.15 0.23 0.08 0.1  0.21 0.38 0.08 0.13 0.33 1.33 0.09 0.11\n",
      "  0.21 0.64]\n",
      " [0.19 0.16 0.12 0.1  0.32 0.21 0.15 0.11 0.62 0.41 0.24 0.16 1.62 0.73\n",
      "  0.43 0.24]\n",
      " [0.2  0.19 0.15 0.15 0.3  0.28 0.22 0.16 0.51 0.64 0.41 0.26 0.99 1.69\n",
      "  0.94 0.49]\n",
      " [0.07 0.08 0.08 0.08 0.1  0.1  0.13 0.1  0.14 0.21 0.33 0.19 0.24 0.38\n",
      "  1.33 0.62]\n",
      " [0.   0.   0.   0.   0.   0.   0.   0.   0.   0.   0.   0.   0.   0.\n",
      "  0.   1.  ]] \n",
      "\n",
      "Mp contingency = Mp - (Mp*E)/n :\n",
      "[[ 1.21  0.34 -0.05 -0.15  0.34  0.03 -0.12 -0.2  -0.03 -0.12 -0.21 -0.22\n",
      "  -0.14 -0.2  -0.22 -0.26]\n",
      " [ 0.45  1.21  0.24  0.01  0.08  0.14 -0.02 -0.15 -0.19 -0.16 -0.23 -0.22\n",
      "  -0.27 -0.29 -0.29 -0.31]\n",
      " [-0.08  0.25  1.19  0.6  -0.21 -0.1   0.23  0.16 -0.33 -0.27 -0.16 -0.04\n",
      "  -0.36 -0.36 -0.28 -0.24]\n",
      " [-0.18 -0.06  0.27  1.26 -0.21 -0.16  0.05  0.37 -0.26 -0.22 -0.13  0.1\n",
      "  -0.27 -0.26 -0.21 -0.11]\n",
      " [ 0.4   0.06 -0.2  -0.28  1.21  0.15 -0.17 -0.3   0.29 -0.01 -0.23 -0.29\n",
      "   0.03 -0.13 -0.22 -0.31]\n",
      " [ 0.07  0.25 -0.08 -0.19  0.23  1.02  0.11 -0.2  -0.08  0.12 -0.14 -0.22\n",
      "  -0.18 -0.19 -0.21 -0.31]\n",
      " [-0.25 -0.08  0.2   0.18 -0.24 -0.02  1.08  0.32 -0.33 -0.19  0.11  0.15\n",
      "  -0.35 -0.32 -0.14 -0.11]\n",
      " [-0.28 -0.19  0.04  0.5  -0.3  -0.21  0.17  1.22 -0.34 -0.26 -0.06  0.53\n",
      "  -0.34 -0.32 -0.21  0.05]\n",
      " [-0.08 -0.2  -0.32 -0.36  0.27 -0.09 -0.26 -0.35  1.19  0.23 -0.17 -0.29\n",
      "   0.59  0.15 -0.06 -0.25]\n",
      " [-0.24 -0.22 -0.32 -0.34 -0.08 -0.   -0.18 -0.31  0.17  1.08  0.1  -0.16\n",
      "   0.17  0.32  0.14 -0.12]\n",
      " [-0.32 -0.28 -0.22 -0.19 -0.28 -0.21  0.02 -0.09 -0.23  0.02  1.04  0.36\n",
      "  -0.18 -0.07  0.42  0.22]\n",
      " [-0.19 -0.17 -0.12 -0.03 -0.19 -0.16 -0.06  0.11 -0.18 -0.13  0.07  1.06\n",
      "  -0.18 -0.16 -0.06  0.37]\n",
      " [-0.17 -0.2  -0.25 -0.26 -0.05 -0.15 -0.21 -0.25  0.26  0.05 -0.13 -0.21\n",
      "   1.25  0.36  0.07 -0.12]\n",
      " [-0.27 -0.28 -0.32 -0.33 -0.17 -0.2  -0.25 -0.31  0.04  0.16 -0.07 -0.22\n",
      "   0.51  1.22  0.47  0.02]\n",
      " [-0.19 -0.18 -0.18 -0.18 -0.16 -0.16 -0.13 -0.16 -0.12 -0.06  0.07 -0.07\n",
      "  -0.03  0.12  1.06  0.36]\n",
      " [-0.06 -0.06 -0.06 -0.06 -0.06 -0.06 -0.06 -0.06 -0.06 -0.06 -0.06 -0.06\n",
      "  -0.06 -0.06 -0.06  0.94]] \n",
      "\n",
      "Successor Representation (Ms):\n",
      "[[1.   0.   0.   0.   0.   0.   0.   0.   0.   0.   0.   0.   0.   0.\n",
      "  0.   0.   0.  ]\n",
      " [0.   1.64 1.11 0.56 0.26 1.1  0.91 0.55 0.31 0.56 0.54 0.35 0.18 0.25\n",
      "  0.29 0.18 0.12]\n",
      " [0.   0.72 1.8  0.85 0.38 0.66 1.01 0.7  0.41 0.39 0.5  0.39 0.22 0.19\n",
      "  0.25 0.18 0.14]\n",
      " [0.   0.35 0.82 1.78 0.75 0.37 0.65 0.99 0.68 0.25 0.38 0.46 0.33 0.13\n",
      "  0.2  0.18 0.17]\n",
      " [0.   0.23 0.51 1.05 1.65 0.26 0.48 0.84 1.1  0.19 0.3  0.44 0.45 0.1\n",
      "  0.16 0.16 0.21]\n",
      " [0.   0.69 0.65 0.4  0.2  1.79 1.02 0.52 0.27 0.86 0.69 0.4  0.18 0.36\n",
      "  0.39 0.22 0.14]\n",
      " [0.   0.42 0.73 0.51 0.27 0.71 1.78 0.79 0.39 0.49 0.76 0.49 0.24 0.25\n",
      "  0.36 0.23 0.16]\n",
      " [0.   0.23 0.47 0.71 0.44 0.34 0.71 1.74 0.75 0.26 0.45 0.69 0.4  0.15\n",
      "  0.24 0.25 0.22]\n",
      " [0.   0.16 0.34 0.59 0.69 0.21 0.42 0.88 1.72 0.17 0.3  0.52 0.67 0.1\n",
      "  0.16 0.18 0.29]\n",
      " [0.   0.35 0.39 0.27 0.15 0.85 0.69 0.4  0.22 1.77 0.97 0.46 0.18 0.7\n",
      "  0.64 0.31 0.17]\n",
      " [0.   0.24 0.36 0.28 0.16 0.47 0.75 0.48 0.26 0.67 1.72 0.7  0.25 0.4\n",
      "  0.7  0.39 0.22]\n",
      " [0.   0.14 0.24 0.3  0.21 0.24 0.41 0.63 0.39 0.28 0.61 1.58 0.5  0.19\n",
      "  0.37 0.52 0.34]\n",
      " [0.   0.08 0.16 0.25 0.25 0.13 0.23 0.42 0.58 0.13 0.26 0.6  1.33 0.08\n",
      "  0.15 0.2  0.51]\n",
      " [0.   0.23 0.28 0.2  0.11 0.53 0.51 0.32 0.18 1.04 0.83 0.45 0.16 1.62\n",
      "  1.06 0.44 0.2 ]\n",
      " [0.   0.16 0.23 0.19 0.11 0.35 0.44 0.32 0.18 0.58 0.88 0.53 0.18 0.68\n",
      "  1.69 0.65 0.28]\n",
      " [0.   0.08 0.13 0.14 0.09 0.16 0.24 0.27 0.16 0.24 0.41 0.61 0.2  0.23\n",
      "  0.55 1.33 0.52]\n",
      " [0.   0.   0.   0.   0.   0.   0.   0.   0.   0.   0.   0.   0.   0.\n",
      "  0.   0.   1.  ]] \n",
      "\n",
      "Ms contingency = Ms - (Ms*E)/n :\n",
      "[[ 0.94 -0.06 -0.06 -0.06 -0.06 -0.06 -0.06 -0.06 -0.06 -0.06 -0.06 -0.06\n",
      "  -0.06 -0.06 -0.06 -0.06 -0.06]\n",
      " [-0.52  1.11  0.58  0.04 -0.26  0.58  0.39  0.02 -0.22  0.04  0.01 -0.17\n",
      "  -0.34 -0.28 -0.24 -0.34 -0.4 ]\n",
      " [-0.52  0.2   1.28  0.33 -0.13  0.14  0.49  0.18 -0.1  -0.13 -0.01 -0.13\n",
      "  -0.29 -0.33 -0.26 -0.34 -0.38]\n",
      " [-0.5  -0.15  0.32  1.28  0.25 -0.13  0.15  0.49  0.19 -0.25 -0.12 -0.04\n",
      "  -0.17 -0.37 -0.3  -0.32 -0.33]\n",
      " [-0.48 -0.25  0.03  0.57  1.17 -0.22  0.    0.36  0.62 -0.29 -0.18 -0.04\n",
      "  -0.02 -0.38 -0.32 -0.32 -0.27]\n",
      " [-0.52  0.18  0.14 -0.12 -0.32  1.28  0.5   0.   -0.24  0.34  0.17 -0.12\n",
      "  -0.34 -0.15 -0.13 -0.3  -0.38]\n",
      " [-0.5  -0.09  0.23  0.   -0.23  0.21  1.28  0.28 -0.12 -0.02  0.26 -0.01\n",
      "  -0.26 -0.26 -0.15 -0.27 -0.34]\n",
      " [-0.47 -0.24 -0.    0.24 -0.03 -0.14  0.24  1.27  0.27 -0.21 -0.02  0.21\n",
      "  -0.07 -0.33 -0.23 -0.22 -0.25]\n",
      " [-0.44 -0.28 -0.1   0.16  0.25 -0.22 -0.02  0.45  1.29 -0.26 -0.13  0.08\n",
      "   0.23 -0.34 -0.27 -0.25 -0.15]\n",
      " [-0.5  -0.15 -0.11 -0.23 -0.36  0.35  0.19 -0.1  -0.28  1.27  0.47 -0.04\n",
      "  -0.32  0.2   0.14 -0.19 -0.33]\n",
      " [-0.47 -0.24 -0.12 -0.19 -0.31  0.    0.27  0.01 -0.21  0.2   1.25  0.22\n",
      "  -0.23 -0.07  0.22 -0.08 -0.26]\n",
      " [-0.41 -0.27 -0.17 -0.11 -0.2  -0.17  0.01  0.22 -0.02 -0.13  0.2   1.17\n",
      "   0.09 -0.22 -0.04  0.11 -0.07]\n",
      " [-0.32 -0.23 -0.15 -0.07 -0.07 -0.19 -0.08  0.11  0.26 -0.19 -0.06  0.29\n",
      "   1.01 -0.23 -0.16 -0.12  0.2 ]\n",
      " [-0.48 -0.25 -0.21 -0.28 -0.37  0.05  0.03 -0.16 -0.3   0.56  0.35 -0.04\n",
      "  -0.32  1.14  0.58 -0.04 -0.28]\n",
      " [-0.44 -0.27 -0.21 -0.25 -0.33 -0.09  0.01 -0.12 -0.26  0.14  0.44  0.09\n",
      "  -0.26  0.24  1.25  0.22 -0.16]\n",
      " [-0.32 -0.23 -0.18 -0.18 -0.22 -0.15 -0.08 -0.04 -0.15 -0.08  0.09  0.3\n",
      "  -0.12 -0.08  0.23  1.01  0.2 ]\n",
      " [-0.06 -0.06 -0.06 -0.06 -0.06 -0.06 -0.06 -0.06 -0.06 -0.06 -0.06 -0.06\n",
      "  -0.06 -0.06 -0.06 -0.06  0.94]]\n"
     ]
    }
   ],
   "source": [
    "# --------------------------------------------------------------------\n",
    "# Example Usage\n",
    "# --------------------------------------------------------------------\n",
    "# if __name__ == \"__main__\":\n",
    "    # Example: Suppose we have a 3x3 PR matrix from earlier\n",
    "# Mp = np.array([\n",
    "#     [ 9.01,  9.11,  8.20],\n",
    "#     [ 0.90,  0.81,  1.73],\n",
    "#     [ 0.09,  0.08,  0.07]\n",
    "# ])\n",
    "Mp = PR\n",
    "# And an example SR matrix (made-up values)\n",
    "# Ms = np.array([\n",
    "#     [ 1.2,  1.0,  0.8],\n",
    "#     [ 0.1,  1.6,  2.5],\n",
    "#     [ 0.3,  0.9,  3.1]\n",
    "# ])\n",
    "Ms = SR\n",
    "\n",
    "Mp_cont = predecessor_representation_contingency(Mp)\n",
    "Ms_cont = successor_representation_contingency(Ms)\n",
    "\n",
    "print(\"Predecessor Representation (Mp):\")\n",
    "print(Mp.round(2), \"\\n\")\n",
    "\n",
    "print(\"Mp contingency = Mp - (Mp*E)/n :\")\n",
    "print(Mp_cont.round(2), \"\\n\")\n",
    "\n",
    "print(\"Successor Representation (Ms):\")\n",
    "print(Ms.round(2), \"\\n\")\n",
    "\n",
    "print(\"Ms contingency = Ms - (Ms*E)/n :\")\n",
    "print(Ms_cont.round(2))\n"
   ]
  },
  {
   "cell_type": "code",
   "execution_count": 42,
   "metadata": {},
   "outputs": [
    {
     "data": {
      "text/plain": [
       "<Axes: >"
      ]
     },
     "execution_count": 42,
     "metadata": {},
     "output_type": "execute_result"
    },
    {
     "data": {
      "image/png": "[encoded data removed]",
      "text/plain": [
       "<Figure size 640x480 with 2 Axes>"
      ]
     },
     "metadata": {},
     "output_type": "display_data"
    }
   ],
   "source": [
    "sns.heatmap(Mp_cont)"
   ]
  },
  {
   "cell_type": "code",
   "execution_count": 43,
   "metadata": {},
   "outputs": [
    {
     "data": {
      "text/plain": [
       "<Axes: >"
      ]
     },
     "execution_count": 43,
     "metadata": {},
     "output_type": "execute_result"
    },
    {
     "data": {
      "image/png": "[encoded data removed]",
      "text/plain": [
       "<Figure size 640x480 with 2 Axes>"
      ]
     },
     "metadata": {},
     "output_type": "display_data"
    }
   ],
   "source": [
    "sns.heatmap(Ms_cont[1:,1:])"
   ]
  },
  {
   "cell_type": "code",
   "execution_count": 14,
   "metadata": {},
   "outputs": [
    {
     "ename": "ValueError",
     "evalue": "cannot reshape array of size 625 into shape (5,5)",
     "output_type": "error",
     "traceback": [
      "\u001b[0;31m---------------------------------------------------------------------------\u001b[0m",
      "\u001b[0;31mValueError\u001b[0m                                Traceback (most recent call last)",
      "Cell \u001b[0;32mIn[14], line 1\u001b[0m\n\u001b[0;32m----> 1\u001b[0m P_r_ \u001b[39m=\u001b[39m np\u001b[39m.\u001b[39mreshape(P_r, (env_size[\u001b[39m0\u001b[39m],env_size[\u001b[39m1\u001b[39m]))\n\u001b[1;32m      2\u001b[0m P_r_ \u001b[39m=\u001b[39m np\u001b[39m.\u001b[39mtranspose(P_r_)\n\u001b[1;32m      3\u001b[0m sns\u001b[39m.\u001b[39mheatmap(P_r_)\n",
      "File \u001b[0;32m<__array_function__ internals>:200\u001b[0m, in \u001b[0;36mreshape\u001b[0;34m(*args, **kwargs)\u001b[0m\n",
      "File \u001b[0;32m~/opt/anaconda3/envs/cscg/lib/python3.11/site-packages/numpy/core/fromnumeric.py:298\u001b[0m, in \u001b[0;36mreshape\u001b[0;34m(a, newshape, order)\u001b[0m\n\u001b[1;32m    198\u001b[0m \u001b[39m@array_function_dispatch\u001b[39m(_reshape_dispatcher)\n\u001b[1;32m    199\u001b[0m \u001b[39mdef\u001b[39;00m \u001b[39mreshape\u001b[39m(a, newshape, order\u001b[39m=\u001b[39m\u001b[39m'\u001b[39m\u001b[39mC\u001b[39m\u001b[39m'\u001b[39m):\n\u001b[1;32m    200\u001b[0m \u001b[39m    \u001b[39m\u001b[39m\"\"\"\u001b[39;00m\n\u001b[1;32m    201\u001b[0m \u001b[39m    Gives a new shape to an array without changing its data.\u001b[39;00m\n\u001b[1;32m    202\u001b[0m \n\u001b[0;32m   (...)\u001b[0m\n\u001b[1;32m    296\u001b[0m \u001b[39m           [5, 6]])\u001b[39;00m\n\u001b[1;32m    297\u001b[0m \u001b[39m    \"\"\"\u001b[39;00m\n\u001b[0;32m--> 298\u001b[0m     \u001b[39mreturn\u001b[39;00m _wrapfunc(a, \u001b[39m'\u001b[39m\u001b[39mreshape\u001b[39m\u001b[39m'\u001b[39m, newshape, order\u001b[39m=\u001b[39morder)\n",
      "File \u001b[0;32m~/opt/anaconda3/envs/cscg/lib/python3.11/site-packages/numpy/core/fromnumeric.py:57\u001b[0m, in \u001b[0;36m_wrapfunc\u001b[0;34m(obj, method, *args, **kwds)\u001b[0m\n\u001b[1;32m     54\u001b[0m     \u001b[39mreturn\u001b[39;00m _wrapit(obj, method, \u001b[39m*\u001b[39margs, \u001b[39m*\u001b[39m\u001b[39m*\u001b[39mkwds)\n\u001b[1;32m     56\u001b[0m \u001b[39mtry\u001b[39;00m:\n\u001b[0;32m---> 57\u001b[0m     \u001b[39mreturn\u001b[39;00m bound(\u001b[39m*\u001b[39margs, \u001b[39m*\u001b[39m\u001b[39m*\u001b[39mkwds)\n\u001b[1;32m     58\u001b[0m \u001b[39mexcept\u001b[39;00m \u001b[39mTypeError\u001b[39;00m:\n\u001b[1;32m     59\u001b[0m     \u001b[39m# A TypeError occurs if the object does have such a method in its\u001b[39;00m\n\u001b[1;32m     60\u001b[0m     \u001b[39m# class, but its signature is not identical to that of NumPy's. This\u001b[39;00m\n\u001b[0;32m   (...)\u001b[0m\n\u001b[1;32m     64\u001b[0m     \u001b[39m# Call _wrapit from within the except clause to ensure a potential\u001b[39;00m\n\u001b[1;32m     65\u001b[0m     \u001b[39m# exception has a traceback chain.\u001b[39;00m\n\u001b[1;32m     66\u001b[0m     \u001b[39mreturn\u001b[39;00m _wrapit(obj, method, \u001b[39m*\u001b[39margs, \u001b[39m*\u001b[39m\u001b[39m*\u001b[39mkwds)\n",
      "\u001b[0;31mValueError\u001b[0m: cannot reshape array of size 625 into shape (5,5)"
     ]
    }
   ],
   "source": [
    "# P_r_ = np.reshape(P_r, (env_size[0],env_size[1]))\n",
    "# P_r_ = np.transpose(P_r_)\n",
    "# sns.heatmap(P_r_)"
   ]
  }
 ],
 "metadata": {
  "kernelspec": {
   "display_name": "Python 3.11.5 ('cscg')",
   "language": "python",
   "name": "python3"
  },
  "language_info": {
   "codemirror_mode": {
    "name": "ipython",
    "version": 3
   },
   "file_extension": ".py",
   "mimetype": "text/x-python",
   "name": "python",
   "nbconvert_exporter": "python",
   "pygments_lexer": "ipython3",
   "version": "3.11.5"
  },
  "orig_nbformat": 4,
  "vscode": {
   "interpreter": {
    "hash": "c4c7db56e4aa600ad0a9a975c34bbf2d671fd5a4715ac0a7956790af44717dcc"
   }
  }
 },
 "nbformat": 4,
 "nbformat_minor": 2
}
